{
 "cells": [
  {
   "cell_type": "markdown",
   "id": "7770baf7-7bf3-4b2f-ab04-8a74627622b4",
   "metadata": {},
   "source": [
    "# FRMasking Adverserial Training\n",
    "Fixed Randomized Masking (FRMasking) is a novel adverserial training technique i'm proposing as an alternative to conventional adverserial training techniques which are time consuming and resource intensive. \n",
    "\n",
    "This notebook sequentially exxecutes the steps required to adverserially train a VGG16 model on CIFAR10 data using PGD & FRMasking"
   ]
  },
  {
   "cell_type": "markdown",
   "id": "ff37144f-5f59-4f1b-9091-6981c87cdf25",
   "metadata": {},
   "source": [
    " #### Load Libraries"
   ]
  },
  {
   "cell_type": "code",
   "execution_count": 2,
   "id": "4e2dea62-550d-4f0c-97bf-db7009c21dc7",
   "metadata": {},
   "outputs": [],
   "source": [
    "# !pip install tqdm matplotlib opencv-python joblib torch torchvision torchaudio --extra-index-url https://download.pytorch.org/whl/cu117"
   ]
  },
  {
   "cell_type": "code",
   "execution_count": 1,
   "id": "ad527c3c-4f2a-41c0-8976-5dc291557fdd",
   "metadata": {
    "id": "ad527c3c-4f2a-41c0-8976-5dc291557fdd"
   },
   "outputs": [
    {
     "name": "stderr",
     "output_type": "stream",
     "text": [
      "D:\\Users\\bhuva\\Documents\\conda_envs\\pytorch\\lib\\site-packages\\tqdm\\auto.py:22: TqdmWarning: IProgress not found. Please update jupyter and ipywidgets. See https://ipywidgets.readthedocs.io/en/stable/user_install.html\n",
      "  from .autonotebook import tqdm as notebook_tqdm\n"
     ]
    }
   ],
   "source": [
    "import numpy as np\n",
    "import matplotlib.pyplot as plt\n",
    "# from tqdm import tqdm # Displays a progress bar\n",
    "\n",
    "import torch\n",
    "from torch import nn\n",
    "from torch import optim\n",
    "import torch.nn.functional as F\n",
    "import torchvision\n",
    "from torchvision import datasets, transforms\n",
    "from torch.utils.data import Dataset, Subset, DataLoader, random_split\n",
    "from tqdm import tqdm\n",
    "import joblib"
   ]
  },
  {
   "cell_type": "code",
   "execution_count": 2,
   "id": "4CHTx00el28M",
   "metadata": {
    "colab": {
     "base_uri": "https://localhost:8080/"
    },
    "id": "4CHTx00el28M",
    "outputId": "df714e15-815f-4202-ec09-0b7316561067"
   },
   "outputs": [
    {
     "data": {
      "text/plain": [
       "device(type='cuda', index=0)"
      ]
     },
     "execution_count": 2,
     "metadata": {},
     "output_type": "execute_result"
    }
   ],
   "source": [
    "device = torch.device(\"cuda:0\" if torch.cuda.is_available() else \"cpu\")\n",
    "device"
   ]
  },
  {
   "cell_type": "code",
   "execution_count": 3,
   "id": "691a781b-f94c-409a-bac5-b0144d458e3a",
   "metadata": {
    "colab": {
     "base_uri": "https://localhost:8080/",
     "height": 912,
     "referenced_widgets": [
      "20551f4826c64bc3b62de6ccb438fb66",
      "cfaae0f77d484152ac631f2aaedd55da",
      "afb7033f0a0d42518d30755d1c45fc98",
      "4d498206376041f0954cbd70a10cedab",
      "5ac682a3cb9540fc8a70aed459ae2d3d",
      "29d8dfd745934a8289a142e9d85dfedb",
      "48ee38d61fef43c9b445087228befa85",
      "8c9a825c041f4d52877def9a4c5f3048",
      "90846c9bb0db4f0ba3cdeb2391c34006",
      "6b3f43066a9d42389423beccbd53c4f6",
      "e87eb599a1c341b19c53a0aa289907d6"
     ]
    },
    "id": "691a781b-f94c-409a-bac5-b0144d458e3a",
    "outputId": "d19e5acc-c9e2-49bf-c2eb-ee46047a0172"
   },
   "outputs": [
    {
     "name": "stderr",
     "output_type": "stream",
     "text": [
      "D:\\Users\\bhuva\\Documents\\conda_envs\\pytorch\\lib\\site-packages\\torchvision\\models\\_utils.py:209: UserWarning: The parameter 'pretrained' is deprecated since 0.13 and may be removed in the future, please use 'weights' instead.\n",
      "  f\"The parameter '{pretrained_param}' is deprecated since 0.13 and may be removed in the future, \"\n",
      "D:\\Users\\bhuva\\Documents\\conda_envs\\pytorch\\lib\\site-packages\\torchvision\\models\\_utils.py:223: UserWarning: Arguments other than a weight enum or `None` for 'weights' are deprecated since 0.13 and may be removed in the future. The current behavior is equivalent to passing `weights=VGG16_BN_Weights.IMAGENET1K_V1`. You can also use `weights=VGG16_BN_Weights.DEFAULT` to get the most up-to-date weights.\n",
      "  warnings.warn(msg)\n"
     ]
    },
    {
     "data": {
      "text/plain": [
       "VGG(\n",
       "  (features): Sequential(\n",
       "    (0): Conv2d(3, 64, kernel_size=(3, 3), stride=(1, 1), padding=(1, 1))\n",
       "    (1): BatchNorm2d(64, eps=1e-05, momentum=0.1, affine=True, track_running_stats=True)\n",
       "    (2): ReLU(inplace=True)\n",
       "    (3): Conv2d(64, 64, kernel_size=(3, 3), stride=(1, 1), padding=(1, 1))\n",
       "    (4): BatchNorm2d(64, eps=1e-05, momentum=0.1, affine=True, track_running_stats=True)\n",
       "    (5): ReLU(inplace=True)\n",
       "    (6): MaxPool2d(kernel_size=2, stride=2, padding=0, dilation=1, ceil_mode=False)\n",
       "    (7): Conv2d(64, 128, kernel_size=(3, 3), stride=(1, 1), padding=(1, 1))\n",
       "    (8): BatchNorm2d(128, eps=1e-05, momentum=0.1, affine=True, track_running_stats=True)\n",
       "    (9): ReLU(inplace=True)\n",
       "    (10): Conv2d(128, 128, kernel_size=(3, 3), stride=(1, 1), padding=(1, 1))\n",
       "    (11): BatchNorm2d(128, eps=1e-05, momentum=0.1, affine=True, track_running_stats=True)\n",
       "    (12): ReLU(inplace=True)\n",
       "    (13): MaxPool2d(kernel_size=2, stride=2, padding=0, dilation=1, ceil_mode=False)\n",
       "    (14): Conv2d(128, 256, kernel_size=(3, 3), stride=(1, 1), padding=(1, 1))\n",
       "    (15): BatchNorm2d(256, eps=1e-05, momentum=0.1, affine=True, track_running_stats=True)\n",
       "    (16): ReLU(inplace=True)\n",
       "    (17): Conv2d(256, 256, kernel_size=(3, 3), stride=(1, 1), padding=(1, 1))\n",
       "    (18): BatchNorm2d(256, eps=1e-05, momentum=0.1, affine=True, track_running_stats=True)\n",
       "    (19): ReLU(inplace=True)\n",
       "    (20): Conv2d(256, 256, kernel_size=(3, 3), stride=(1, 1), padding=(1, 1))\n",
       "    (21): BatchNorm2d(256, eps=1e-05, momentum=0.1, affine=True, track_running_stats=True)\n",
       "    (22): ReLU(inplace=True)\n",
       "    (23): MaxPool2d(kernel_size=2, stride=2, padding=0, dilation=1, ceil_mode=False)\n",
       "    (24): Conv2d(256, 512, kernel_size=(3, 3), stride=(1, 1), padding=(1, 1))\n",
       "    (25): BatchNorm2d(512, eps=1e-05, momentum=0.1, affine=True, track_running_stats=True)\n",
       "    (26): ReLU(inplace=True)\n",
       "    (27): Conv2d(512, 512, kernel_size=(3, 3), stride=(1, 1), padding=(1, 1))\n",
       "    (28): BatchNorm2d(512, eps=1e-05, momentum=0.1, affine=True, track_running_stats=True)\n",
       "    (29): ReLU(inplace=True)\n",
       "    (30): Conv2d(512, 512, kernel_size=(3, 3), stride=(1, 1), padding=(1, 1))\n",
       "    (31): BatchNorm2d(512, eps=1e-05, momentum=0.1, affine=True, track_running_stats=True)\n",
       "    (32): ReLU(inplace=True)\n",
       "    (33): MaxPool2d(kernel_size=2, stride=2, padding=0, dilation=1, ceil_mode=False)\n",
       "    (34): Conv2d(512, 512, kernel_size=(3, 3), stride=(1, 1), padding=(1, 1))\n",
       "    (35): BatchNorm2d(512, eps=1e-05, momentum=0.1, affine=True, track_running_stats=True)\n",
       "    (36): ReLU(inplace=True)\n",
       "    (37): Conv2d(512, 512, kernel_size=(3, 3), stride=(1, 1), padding=(1, 1))\n",
       "    (38): BatchNorm2d(512, eps=1e-05, momentum=0.1, affine=True, track_running_stats=True)\n",
       "    (39): ReLU(inplace=True)\n",
       "    (40): Conv2d(512, 512, kernel_size=(3, 3), stride=(1, 1), padding=(1, 1))\n",
       "    (41): BatchNorm2d(512, eps=1e-05, momentum=0.1, affine=True, track_running_stats=True)\n",
       "    (42): ReLU(inplace=True)\n",
       "    (43): MaxPool2d(kernel_size=2, stride=2, padding=0, dilation=1, ceil_mode=False)\n",
       "  )\n",
       "  (avgpool): AdaptiveAvgPool2d(output_size=(7, 7))\n",
       "  (classifier): Sequential(\n",
       "    (0): Linear(in_features=25088, out_features=4096, bias=True)\n",
       "    (1): ReLU(inplace=True)\n",
       "    (2): Dropout(p=0.5, inplace=False)\n",
       "    (3): Linear(in_features=4096, out_features=4096, bias=True)\n",
       "    (4): ReLU(inplace=True)\n",
       "    (5): Dropout(p=0.5, inplace=False)\n",
       "    (6): Linear(in_features=4096, out_features=10, bias=True)\n",
       "  )\n",
       ")"
      ]
     },
     "execution_count": 3,
     "metadata": {},
     "output_type": "execute_result"
    }
   ],
   "source": [
    "# model = torch.hub.load('NVIDIA/DeepLearningExamples:torchhub', 'nvidia_efficientnet_b0', pretrained=True)\n",
    "model = torchvision.models.vgg16_bn(pretrained=True)# torch.hub.load('pytorch/vision:v0.10.0', 'vgg16', weights=torchvision.models.VGG16_Weights.IMAGENET1K_V1)\n",
    "input_lastLayer = model.classifier[6].in_features\n",
    "model.classifier[6] = torch.nn.Linear(input_lastLayer, 10)\n",
    "model.to(device)"
   ]
  },
  {
   "cell_type": "markdown",
   "id": "6c784370-a6d2-4a7a-a124-b097b0542981",
   "metadata": {},
   "source": [
    "# Train base VGG16 model on CIFAR10"
   ]
  },
  {
   "cell_type": "code",
   "execution_count": 27,
   "id": "7ea9efb9-84ee-4ced-b2db-746dc3276160",
   "metadata": {
    "id": "7ea9efb9-84ee-4ced-b2db-746dc3276160"
   },
   "outputs": [],
   "source": [
    "transform = transforms.Compose(\n",
    "    [transforms.ToTensor(), transforms.RandomHorizontalFlip()])\n"
   ]
  },
  {
   "cell_type": "code",
   "execution_count": 28,
   "id": "BqMmbtUQhAhk",
   "metadata": {
    "colab": {
     "base_uri": "https://localhost:8080/",
     "height": 86,
     "referenced_widgets": [
      "9f516822f4844be1988a38facc474c00",
      "3fb0053447bb4557b2fadd131f052004",
      "72cbe07d52b7417ba6ed7d2984016a5d",
      "fceaf4638a234476a8fd45615b9d4d27",
      "827f367540aa4f37812cc7b073b16279",
      "0ecab7b982ff4064a5c2e36147fdccc3",
      "e73ca517e24b4812974b84ce14c6e801",
      "89bf8c1ce28f4a0082dcb791e1aef2a8",
      "89c596abc0df45b5b04c7fa2026f7c0e",
      "649493c770084ccc8408431ecdf5fc57",
      "388a235c40334d0f977561deaee240a1"
     ]
    },
    "id": "BqMmbtUQhAhk",
    "outputId": "cba6242a-4373-4b78-8d1b-d8a31e998e23"
   },
   "outputs": [
    {
     "name": "stdout",
     "output_type": "stream",
     "text": [
      "Files already downloaded and verified\n"
     ]
    }
   ],
   "source": [
    "batch_size = 128\n",
    "\n",
    "trainset = torchvision.datasets.CIFAR10(root='./data', train=True,\n",
    "                                        download=True, transform=transform)\n",
    "\n",
    "subset = torch.utils.data.Subset(trainset, indices=np.arange(40000))\n",
    "\n",
    "trainloader = torch.utils.data.DataLoader(subset, batch_size=batch_size, num_workers=2)\n",
    "\n",
    "classes = ('plane', 'car', 'bird', 'cat',\n",
    "           'deer', 'dog', 'frog', 'horse', 'ship', 'truck')\n"
   ]
  },
  {
   "cell_type": "code",
   "execution_count": 16,
   "id": "fB4T9aW8hYQh",
   "metadata": {
    "id": "fB4T9aW8hYQh"
   },
   "outputs": [],
   "source": [
    "import torch.optim as optim\n",
    "lr = 0.001\n",
    "criterion = torch.nn.CrossEntropyLoss()\n",
    "optimizer = torch.optim.SGD(model.parameters(), lr = lr, momentum=0.9,weight_decay=5e-4)"
   ]
  },
  {
   "cell_type": "code",
   "execution_count": 309,
   "id": "0e2cf2af-336c-4409-b5b9-6ab6f6e0d48b",
   "metadata": {},
   "outputs": [],
   "source": [
    "def adjust_learning_rate(optimizer, epoch, lr):\n",
    "    \"\"\"Sets the learning rate to the initial LR decayed by 2 every 30 epochs\"\"\"\n",
    "    lr = lr * (0.5 ** (epoch // 30))\n",
    "    for param_group in optimizer.param_groups:\n",
    "        param_group['lr'] = lr"
   ]
  },
  {
   "cell_type": "code",
   "execution_count": 18,
   "id": "e54942ad-d50f-43a5-a80d-821220618e23",
   "metadata": {
    "id": "e54942ad-d50f-43a5-a80d-821220618e23"
   },
   "outputs": [],
   "source": [
    "def train(model, loader, num_epoch = 10): # Train the model\n",
    "    print(\"Start training...\")\n",
    "    model.train() # Set the model to training mode\n",
    "    for i in range(num_epoch):\n",
    "        \n",
    "        adjust_learning_rate(optimizer, i, lr)\n",
    "        \n",
    "        running_loss = []\n",
    "        correct=0\n",
    "        for batch, label in tqdm(loader):\n",
    "            batch = batch.to(device)\n",
    "            label = label.to(device)\n",
    "            optimizer.zero_grad() # Clear gradients from the previous iteration\n",
    "            pred = model(batch) # This will call Network.forward() that you implement\n",
    "            loss = criterion(pred, label) # Calculate the loss\n",
    "            running_loss.append(loss.item())\n",
    "            loss.backward() # Backprop gradients to all tensors in the network\n",
    "            optimizer.step() # Update trainable weights\n",
    "            correct += (torch.argmax(pred,dim=1)==label).sum().item()\n",
    "        acc = correct/len(loader.dataset)\n",
    "        print(f\"Epoch {i}\\t\\tacc: {acc:.4f}\")\n",
    "        print(\"\\t\\tloss: {}\".format(np.mean(running_loss))) # Print the average loss for this epoch\n",
    "    print(\"Done!\")"
   ]
  },
  {
   "cell_type": "code",
   "execution_count": 19,
   "id": "0d98657c-f32e-41b4-927a-4d167a305dde",
   "metadata": {
    "id": "0d98657c-f32e-41b4-927a-4d167a305dde",
    "outputId": "3f6618af-4b6f-4d7a-89f8-f7229f464b32",
    "scrolled": true,
    "tags": []
   },
   "outputs": [
    {
     "name": "stdout",
     "output_type": "stream",
     "text": [
      "Start training...\n"
     ]
    },
    {
     "name": "stderr",
     "output_type": "stream",
     "text": [
      "100%|██████████████████████████████████████████████████████████████████████████████| 2500/2500 [02:06<00:00, 19.79it/s]\n"
     ]
    },
    {
     "name": "stdout",
     "output_type": "stream",
     "text": [
      "Epoch 0\t\tacc: 0.7181\n",
      "\t\tloss: 0.8470979434251785\n"
     ]
    },
    {
     "name": "stderr",
     "output_type": "stream",
     "text": [
      "100%|██████████████████████████████████████████████████████████████████████████████| 2500/2500 [02:12<00:00, 18.90it/s]\n"
     ]
    },
    {
     "name": "stdout",
     "output_type": "stream",
     "text": [
      "Epoch 1\t\tacc: 0.8477\n",
      "\t\tloss: 0.4570293367832899\n"
     ]
    },
    {
     "name": "stderr",
     "output_type": "stream",
     "text": [
      "100%|██████████████████████████████████████████████████████████████████████████████| 2500/2500 [02:11<00:00, 19.05it/s]\n"
     ]
    },
    {
     "name": "stdout",
     "output_type": "stream",
     "text": [
      "Epoch 2\t\tacc: 0.8950\n",
      "\t\tloss: 0.31530093896761535\n"
     ]
    },
    {
     "name": "stderr",
     "output_type": "stream",
     "text": [
      "100%|██████████████████████████████████████████████████████████████████████████████| 2500/2500 [02:08<00:00, 19.52it/s]\n"
     ]
    },
    {
     "name": "stdout",
     "output_type": "stream",
     "text": [
      "Epoch 3\t\tacc: 0.9195\n",
      "\t\tloss: 0.23776789084430783\n"
     ]
    },
    {
     "name": "stderr",
     "output_type": "stream",
     "text": [
      "100%|██████████████████████████████████████████████████████████████████████████████| 2500/2500 [02:10<00:00, 19.12it/s]\n"
     ]
    },
    {
     "name": "stdout",
     "output_type": "stream",
     "text": [
      "Epoch 4\t\tacc: 0.9373\n",
      "\t\tloss: 0.18618623447748833\n"
     ]
    },
    {
     "name": "stderr",
     "output_type": "stream",
     "text": [
      "100%|██████████████████████████████████████████████████████████████████████████████| 2500/2500 [02:09<00:00, 19.33it/s]\n"
     ]
    },
    {
     "name": "stdout",
     "output_type": "stream",
     "text": [
      "Epoch 5\t\tacc: 0.9493\n",
      "\t\tloss: 0.1511885683774017\n"
     ]
    },
    {
     "name": "stderr",
     "output_type": "stream",
     "text": [
      "100%|██████████████████████████████████████████████████████████████████████████████| 2500/2500 [02:08<00:00, 19.45it/s]\n"
     ]
    },
    {
     "name": "stdout",
     "output_type": "stream",
     "text": [
      "Epoch 6\t\tacc: 0.9578\n",
      "\t\tloss: 0.12790297562555641\n"
     ]
    },
    {
     "name": "stderr",
     "output_type": "stream",
     "text": [
      "100%|██████████████████████████████████████████████████████████████████████████████| 2500/2500 [02:07<00:00, 19.66it/s]\n"
     ]
    },
    {
     "name": "stdout",
     "output_type": "stream",
     "text": [
      "Epoch 7\t\tacc: 0.9648\n",
      "\t\tloss: 0.10783725403504213\n"
     ]
    },
    {
     "name": "stderr",
     "output_type": "stream",
     "text": [
      "100%|██████████████████████████████████████████████████████████████████████████████| 2500/2500 [02:07<00:00, 19.58it/s]\n"
     ]
    },
    {
     "name": "stdout",
     "output_type": "stream",
     "text": [
      "Epoch 8\t\tacc: 0.9660\n",
      "\t\tloss: 0.10044398831169238\n"
     ]
    },
    {
     "name": "stderr",
     "output_type": "stream",
     "text": [
      "100%|██████████████████████████████████████████████████████████████████████████████| 2500/2500 [02:08<00:00, 19.50it/s]\n"
     ]
    },
    {
     "name": "stdout",
     "output_type": "stream",
     "text": [
      "Epoch 9\t\tacc: 0.9723\n",
      "\t\tloss: 0.08291184283207403\n"
     ]
    },
    {
     "name": "stderr",
     "output_type": "stream",
     "text": [
      "100%|██████████████████████████████████████████████████████████████████████████████| 2500/2500 [02:08<00:00, 19.52it/s]\n"
     ]
    },
    {
     "name": "stdout",
     "output_type": "stream",
     "text": [
      "Epoch 10\t\tacc: 0.9748\n",
      "\t\tloss: 0.07679520386731602\n"
     ]
    },
    {
     "name": "stderr",
     "output_type": "stream",
     "text": [
      "100%|██████████████████████████████████████████████████████████████████████████████| 2500/2500 [02:03<00:00, 20.23it/s]\n"
     ]
    },
    {
     "name": "stdout",
     "output_type": "stream",
     "text": [
      "Epoch 11\t\tacc: 0.9769\n",
      "\t\tloss: 0.06818679165060748\n"
     ]
    },
    {
     "name": "stderr",
     "output_type": "stream",
     "text": [
      "100%|██████████████████████████████████████████████████████████████████████████████| 2500/2500 [02:06<00:00, 19.79it/s]\n"
     ]
    },
    {
     "name": "stdout",
     "output_type": "stream",
     "text": [
      "Epoch 12\t\tacc: 0.9786\n",
      "\t\tloss: 0.06379558560164879\n"
     ]
    },
    {
     "name": "stderr",
     "output_type": "stream",
     "text": [
      "100%|██████████████████████████████████████████████████████████████████████████████| 2500/2500 [02:06<00:00, 19.80it/s]\n"
     ]
    },
    {
     "name": "stdout",
     "output_type": "stream",
     "text": [
      "Epoch 13\t\tacc: 0.9805\n",
      "\t\tloss: 0.05867402332052443\n"
     ]
    },
    {
     "name": "stderr",
     "output_type": "stream",
     "text": [
      "100%|██████████████████████████████████████████████████████████████████████████████| 2500/2500 [02:05<00:00, 19.87it/s]\n"
     ]
    },
    {
     "name": "stdout",
     "output_type": "stream",
     "text": [
      "Epoch 14\t\tacc: 0.9818\n",
      "\t\tloss: 0.05566974907485565\n"
     ]
    },
    {
     "name": "stderr",
     "output_type": "stream",
     "text": [
      "100%|██████████████████████████████████████████████████████████████████████████████| 2500/2500 [02:06<00:00, 19.79it/s]\n"
     ]
    },
    {
     "name": "stdout",
     "output_type": "stream",
     "text": [
      "Epoch 15\t\tacc: 0.9844\n",
      "\t\tloss: 0.04629561780585354\n"
     ]
    },
    {
     "name": "stderr",
     "output_type": "stream",
     "text": [
      "100%|██████████████████████████████████████████████████████████████████████████████| 2500/2500 [02:06<00:00, 19.80it/s]\n"
     ]
    },
    {
     "name": "stdout",
     "output_type": "stream",
     "text": [
      "Epoch 16\t\tacc: 0.9858\n",
      "\t\tloss: 0.043983520259318176\n"
     ]
    },
    {
     "name": "stderr",
     "output_type": "stream",
     "text": [
      "100%|██████████████████████████████████████████████████████████████████████████████| 2500/2500 [02:03<00:00, 20.31it/s]\n"
     ]
    },
    {
     "name": "stdout",
     "output_type": "stream",
     "text": [
      "Epoch 17\t\tacc: 0.9837\n",
      "\t\tloss: 0.049142913313777535\n"
     ]
    },
    {
     "name": "stderr",
     "output_type": "stream",
     "text": [
      "100%|██████████████████████████████████████████████████████████████████████████████| 2500/2500 [02:03<00:00, 20.22it/s]\n"
     ]
    },
    {
     "name": "stdout",
     "output_type": "stream",
     "text": [
      "Epoch 18\t\tacc: 0.9855\n",
      "\t\tloss: 0.043105383789508775\n"
     ]
    },
    {
     "name": "stderr",
     "output_type": "stream",
     "text": [
      "100%|██████████████████████████████████████████████████████████████████████████████| 2500/2500 [02:09<00:00, 19.35it/s]"
     ]
    },
    {
     "name": "stdout",
     "output_type": "stream",
     "text": [
      "Epoch 19\t\tacc: 0.9870\n",
      "\t\tloss: 0.03930117091103457\n",
      "Done!\n"
     ]
    },
    {
     "name": "stderr",
     "output_type": "stream",
     "text": [
      "\n"
     ]
    }
   ],
   "source": [
    "epoch = 20\n",
    "train(model, trainloader, epoch)"
   ]
  },
  {
   "cell_type": "code",
   "execution_count": 157,
   "id": "62de6dc1-38be-4db1-8db2-8db4c8912be6",
   "metadata": {},
   "outputs": [
    {
     "data": {
      "image/png": "[encoded data removed]",
      "text/plain": [
       "<Figure size 800x400 with 2 Axes>"
      ]
     },
     "metadata": {},
     "output_type": "display_data"
    }
   ],
   "source": [
    "adv_train_metrics = joblib.load(\"adv_train_metrics.dump\")\n",
    "\n",
    "fig, ax = plt.subplots(1,2,figsize=(8,4))\n",
    "\n",
    "ax[0].plot(adv_train_metrics[\"acc\"])\n",
    "ax[0].set_title(\"Accuracy\")\n",
    "ax[0].set_xticks(range(0,21,3))\n",
    "ax[1].plot(adv_train_metrics[\"loss\"], color='orangered')\n",
    "ax[1].set_title(\"Loss\")\n",
    "ax[1].set_xticks(range(0,21,3))\n",
    "plt.show()"
   ]
  },
  {
   "cell_type": "code",
   "execution_count": 28,
   "id": "9e053735-aba0-41f8-b204-9a8d5429f394",
   "metadata": {},
   "outputs": [
    {
     "data": {
      "text/plain": [
       "(array([0, 1, 2, 3, 4, 5, 6, 7, 8, 9]),\n",
       " array([3986, 3986, 4048, 3984, 4003, 3975, 4020, 4023, 3996, 3978],\n",
       "       dtype=int64))"
      ]
     },
     "execution_count": 28,
     "metadata": {},
     "output_type": "execute_result"
    }
   ],
   "source": [
    "np.unique(trainloader.dataset.dataset.targets[0:39999], return_counts=True)"
   ]
  },
  {
   "cell_type": "code",
   "execution_count": 33,
   "id": "bfc55fd0-0c54-4dbf-bcac-413f5d73de88",
   "metadata": {},
   "outputs": [
    {
     "data": {
      "text/plain": [
       "['airplane',\n",
       " 'automobile',\n",
       " 'bird',\n",
       " 'cat',\n",
       " 'deer',\n",
       " 'dog',\n",
       " 'frog',\n",
       " 'horse',\n",
       " 'ship',\n",
       " 'truck']"
      ]
     },
     "execution_count": 33,
     "metadata": {},
     "output_type": "execute_result"
    }
   ],
   "source": [
    "trainloader.dataset.dataset.classes"
   ]
  },
  {
   "cell_type": "code",
   "execution_count": 29,
   "id": "X7oiK_5ijI33",
   "metadata": {
    "id": "X7oiK_5ijI33"
   },
   "outputs": [],
   "source": [
    "torch.save(model, \"vgg_cifar.h5\")"
   ]
  },
  {
   "cell_type": "markdown",
   "id": "045d8250-5c09-459d-b006-3748e2dc2300",
   "metadata": {},
   "source": [
    "Eval Base Model"
   ]
  },
  {
   "cell_type": "code",
   "execution_count": 4,
   "id": "af4122fd-055f-4e35-aa21-4428f1449700",
   "metadata": {
    "id": "af4122fd-055f-4e35-aa21-4428f1449700"
   },
   "outputs": [],
   "source": [
    "batch_size = 32\n",
    "test_transforms = transforms.Compose(\n",
    "    [transforms.ToTensor()])"
   ]
  },
  {
   "cell_type": "code",
   "execution_count": 5,
   "id": "jBZwWxF_yiwd",
   "metadata": {
    "colab": {
     "base_uri": "https://localhost:8080/"
    },
    "id": "jBZwWxF_yiwd",
    "outputId": "0818b8c0-402e-4945-cb87-abccd5d5844f"
   },
   "outputs": [
    {
     "name": "stdout",
     "output_type": "stream",
     "text": [
      "Files already downloaded and verified\n"
     ]
    }
   ],
   "source": [
    "test_set = torchvision.datasets.CIFAR10(root='./data', train=False,\n",
    "                                        download=True, transform=test_transforms)\n",
    "testloader = torch.utils.data.DataLoader(test_set, batch_size=batch_size,\n",
    "                                          shuffle=True, num_workers=2)"
   ]
  },
  {
   "cell_type": "code",
   "execution_count": 33,
   "id": "laWrdhKrAXUR",
   "metadata": {
    "id": "laWrdhKrAXUR"
   },
   "outputs": [],
   "source": [
    "model = torch.load(\"vgg_cifar.h5\")"
   ]
  },
  {
   "cell_type": "code",
   "execution_count": 17,
   "id": "eYBhBFdTzXt1",
   "metadata": {
    "id": "eYBhBFdTzXt1"
   },
   "outputs": [],
   "source": [
    "def evaluate(model, loader): # Evaluate accuracy on validation / test set\n",
    "    model.eval() # Set the model to evaluation mode\n",
    "    correct = 0\n",
    "    with torch.no_grad(): # Do not calculate grident to speed up computation\n",
    "        for batch, label in tqdm(loader):\n",
    "            batch = batch.to(device)\n",
    "            label = label.to(device)\n",
    "            pred = model(batch)\n",
    "            correct += (torch.argmax(pred,dim=1)==label).sum().item()\n",
    "    acc = correct/len(loader.dataset)\n",
    "    print(\"Evaluation accuracy: {}\".format(acc))\n",
    "    return acc"
   ]
  },
  {
   "cell_type": "code",
   "execution_count": 46,
   "id": "j_BgtyUH0IVj",
   "metadata": {
    "colab": {
     "base_uri": "https://localhost:8080/"
    },
    "id": "j_BgtyUH0IVj",
    "outputId": "4280f7dd-5646-4eee-f3e6-ef4d48b8c6ef"
   },
   "outputs": [
    {
     "name": "stderr",
     "output_type": "stream",
     "text": [
      "100%|████████████████████████████████████████████████████████████████████████████████| 313/313 [00:09<00:00, 34.49it/s]"
     ]
    },
    {
     "name": "stdout",
     "output_type": "stream",
     "text": [
      "Evaluation accuracy: 0.8842\n"
     ]
    },
    {
     "name": "stderr",
     "output_type": "stream",
     "text": [
      "\n"
     ]
    }
   ],
   "source": [
    "og_acc = evaluate(model, testloader)"
   ]
  },
  {
   "cell_type": "markdown",
   "id": "9496e301-a50f-4a9a-95a6-495614476e9b",
   "metadata": {},
   "source": [
    "# FRMasking Steps Begin Here"
   ]
  },
  {
   "cell_type": "markdown",
   "id": "f2af40bc-e1df-4fd5-804e-4eacd68dfd64",
   "metadata": {
    "id": "f2af40bc-e1df-4fd5-804e-4eacd68dfd64"
   },
   "source": [
    "### Attack train set on Trained VGG model"
   ]
  },
  {
   "cell_type": "code",
   "execution_count": null,
   "id": "e1f6a412-0127-42bc-a19c-1c39bd93c1e3",
   "metadata": {
    "id": "e1f6a412-0127-42bc-a19c-1c39bd93c1e3"
   },
   "outputs": [],
   "source": [
    "import matplotlib.pyplot as plt"
   ]
  },
  {
   "cell_type": "code",
   "execution_count": null,
   "id": "6b719ac0-5947-47ed-a829-7e7991bdfbc8",
   "metadata": {},
   "outputs": [],
   "source": [
    "class PerturbPGDIterBuff():\n",
    "    def __init__(self, model, epsilon=0.007, alpha=0.001):\n",
    "        self.epsilon = epsilon\n",
    "        self.model = model\n",
    "        self.steps = 2\n",
    "        self.alpha = alpha\n",
    "        self.device = device\n",
    "    \n",
    "    def attack(self, X, y, steps=None):\n",
    "        if steps != None:\n",
    "            self.steps = steps\n",
    "        \n",
    "        # Creating copy of input that gets iteratively perturbated\n",
    "        # using torch.autograd.Variable through the process since without it gradients arent being stored\n",
    "        X_updt = torch.autograd.Variable(X.data, requires_grad=True)\n",
    "        all_step_X_updts = [None] * (self.steps-2)\n",
    "        \n",
    "        # print(\"Num Steps: \", self.steps)\n",
    "        \n",
    "        for i in range(0,self.steps):\n",
    "            pred = self.model(X_updt)\n",
    "            # zeroing gradients\n",
    "            self.model.zero_grad()\n",
    "            loss = F.cross_entropy(pred, y)\n",
    "            loss.backward()\n",
    "            # extract signs of gradients and permute alphas\n",
    "            alphas = alpha * torch.sign(X_updt.grad)\n",
    "            # update input features with alpha\n",
    "            X_updt = torch.autograd.Variable(X_updt + alphas, requires_grad=True)\n",
    "            # perturbate \n",
    "            X_updt = torch.autograd.Variable(X_updt + torch.clamp(X_updt - X, min=-self.epsilon, max=self.epsilon), requires_grad=True)\n",
    "            diff = X_updt - X\n",
    "            if i >= 0:\n",
    "                all_step_X_updts[i-2] = diff.detach().cpu().numpy()\n",
    "        return all_step_X_updts\n",
    "\n"
   ]
  },
  {
   "cell_type": "code",
   "execution_count": null,
   "id": "8f30d375-7c8e-439c-b785-29294079f45a",
   "metadata": {
    "id": "8f30d375-7c8e-439c-b785-29294079f45a"
   },
   "outputs": [],
   "source": [
    "def get_attack_meta(model, loader, attack, attack_name, steps=None):\n",
    "    \n",
    "    final_set_of_samples = []\n",
    "    \n",
    "    model.eval() \n",
    "    correct = 0\n",
    "    with torch.no_grad(): \n",
    "        for batch, label in tqdm(loader):\n",
    "            batch = batch.to(device)\n",
    "            label = label.to(device)\n",
    "            with torch.enable_grad():\n",
    "                if attack_name == \"PGD\":\n",
    "                    batch_pert = attack.attack(batch, label, steps)\n",
    "            final_set_of_samples.append(batch_pert)\n",
    "            \n",
    "    return final_set_of_samples"
   ]
  },
  {
   "cell_type": "code",
   "execution_count": null,
   "id": "7b287a54-1470-4a22-9584-f3d25603c8f2",
   "metadata": {
    "id": "7b287a54-1470-4a22-9584-f3d25603c8f2"
   },
   "outputs": [],
   "source": [
    "model = torch.load(\"vgg_cifar_NEW.h5\")  "
   ]
  },
  {
   "cell_type": "code",
   "execution_count": null,
   "id": "C367N3YxLXY-",
   "metadata": {
    "id": "C367N3YxLXY-",
    "outputId": "a2e690da-fb81-4246-85f9-d498a6d92490"
   },
   "outputs": [
    {
     "name": "stdout",
     "output_type": "stream",
     "text": [
      "Files already downloaded and verified\n"
     ]
    }
   ],
   "source": [
    "transform = transforms.Compose(\n",
    "    [transforms.ToTensor()])\n",
    "batch_size = 64\n",
    "\n",
    "trainset = torchvision.datasets.CIFAR10(root='./data', train=True,\n",
    "                                        download=True, transform=transform)\n",
    "\n",
    "subset = torch.utils.data.Subset(trainset, indices=np.arange(40000))\n",
    "\n",
    "trainloader = torch.utils.data.DataLoader(subset, batch_size=batch_size, num_workers=2)"
   ]
  },
  {
   "cell_type": "code",
   "execution_count": null,
   "id": "1fb05ab2-5033-4b94-aaac-ff197bea5091",
   "metadata": {
    "id": "1fb05ab2-5033-4b94-aaac-ff197bea5091",
    "outputId": "f642c559-2bb5-4bf8-8fbf-59030d5505a8"
   },
   "outputs": [
    {
     "name": "stderr",
     "output_type": "stream",
     "text": [
      "100%|████████████████████████████████████████████████████████████████████████████████| 625/625 [03:48<00:00,  2.73it/s]\n"
     ]
    }
   ],
   "source": [
    "epsilon = 25./255.\n",
    "alpha = 0.001\n",
    "succ_rate = []\n",
    "meta = {}\n",
    "\n",
    "final_perturbation_maps = get_attack_meta(model, trainloader, PerturbPGDIterBuff(model, epsilon, alpha), \"PGD\", steps=8)"
   ]
  },
  {
   "cell_type": "code",
   "execution_count": null,
   "id": "f61adc7d-b06c-44dd-9c3f-c4a432d17821",
   "metadata": {},
   "outputs": [],
   "source": [
    "final_perturbation_maps = np.asarray(final_perturbation_maps)"
   ]
  },
  {
   "cell_type": "code",
   "execution_count": null,
   "id": "379b9602-193b-4ddc-b64a-a5bcfc5a25b0",
   "metadata": {},
   "outputs": [],
   "source": [
    "for i in range(final_perturbation_maps.shape[1]):\n",
    "    pgd_step_maps = np.concatenate(final_perturbation_maps[:,1,:])\n",
    "    joblib.dump(pgd_step_maps, f\"perturbation_mapsPGD_40k_steps{i+2}.dump\")"
   ]
  },
  {
   "cell_type": "code",
   "execution_count": null,
   "id": "712dd902-c66c-490f-93e8-d0a0f0f26b6f",
   "metadata": {},
   "outputs": [],
   "source": [
    "del final_perturbation_maps"
   ]
  },
  {
   "cell_type": "markdown",
   "id": "18cf5324-2eb2-4d08-8fee-46c4c7d312c2",
   "metadata": {
    "id": "18cf5324-2eb2-4d08-8fee-46c4c7d312c2"
   },
   "source": [
    "### Get Perturbation Distribution"
   ]
  },
  {
   "cell_type": "code",
   "execution_count": 34,
   "id": "eb7d7554-3a44-43d6-939e-5d17ba60a1a4",
   "metadata": {
    "id": "eb7d7554-3a44-43d6-939e-5d17ba60a1a4"
   },
   "outputs": [],
   "source": [
    "pert_map_loaded = joblib.load(\"perturbation_mapsPGD_40k_steps7.dump\")"
   ]
  },
  {
   "cell_type": "code",
   "execution_count": 35,
   "id": "ace78aa0-03d3-4c2d-9ebe-352fd6f4b91c",
   "metadata": {
    "colab": {
     "base_uri": "https://localhost:8080/"
    },
    "id": "ace78aa0-03d3-4c2d-9ebe-352fd6f4b91c",
    "outputId": "a3a725ef-5909-42f9-d504-b7f8f4c0a986"
   },
   "outputs": [
    {
     "data": {
      "text/plain": [
       "array([[-0.03000006, -0.03000006, -0.02600005, ...,  0.01399982,\n",
       "         0.00599992, -0.00199997],\n",
       "       [-0.02999995, -0.03      ,  0.02600005, ...,  0.0259997 ,\n",
       "        -0.02599967,  0.02999958],\n",
       "       [-0.03000006, -0.002     , -0.01400003, ..., -0.02599967,\n",
       "        -0.00199997, -0.02599967],\n",
       "       ...,\n",
       "       [ 0.02999961,  0.02999961,  0.00199997, ...,  0.01799977,\n",
       "        -0.03000006, -0.02200004],\n",
       "       [-0.02999961,  0.02999961, -0.02599967, ..., -0.02999961,\n",
       "         0.02599967, -0.00599992],\n",
       "       [ 0.01799977,  0.02999961,  0.02999961, ..., -0.02999961,\n",
       "         0.01799977, -0.02999961]], dtype=float32)"
      ]
     },
     "execution_count": 35,
     "metadata": {},
     "output_type": "execute_result"
    }
   ],
   "source": [
    "pert_map_loaded[0][0]"
   ]
  },
  {
   "cell_type": "code",
   "execution_count": 36,
   "id": "ypK_IboHKzym",
   "metadata": {
    "colab": {
     "base_uri": "https://localhost:8080/"
    },
    "id": "ypK_IboHKzym",
    "outputId": "a279d490-5d3f-4132-c3cf-ca8e0a8af995"
   },
   "outputs": [
    {
     "data": {
      "text/plain": [
       "array([[ 0.02600013,  0.02600005, -0.02600005, ..., -0.01799977,\n",
       "        -0.02599967, -0.02999961],\n",
       "       [-0.03000006, -0.022     ,  0.02599996, ...,  0.02599967,\n",
       "        -0.02599967,  0.02599967],\n",
       "       [ 0.002     ,  0.03000001,  0.01800004, ..., -0.02599967,\n",
       "         0.02999961, -0.00999987],\n",
       "       ...,\n",
       "       [ 0.02599967,  0.02999961,  0.01799977, ...,  0.02999961,\n",
       "        -0.01400003, -0.02200004],\n",
       "       [-0.02999961,  0.02999964, -0.02999961, ..., -0.02599967,\n",
       "         0.03000008, -0.01800004],\n",
       "       [-0.02999961,  0.02999961,  0.02599967, ..., -0.02599967,\n",
       "         0.02199972, -0.01799977]], dtype=float32)"
      ]
     },
     "execution_count": 36,
     "metadata": {},
     "output_type": "execute_result"
    }
   ],
   "source": [
    "pert_map_loaded[0][1]"
   ]
  },
  {
   "cell_type": "code",
   "execution_count": 37,
   "id": "Hn66XEUJK3Hu",
   "metadata": {
    "colab": {
     "base_uri": "https://localhost:8080/"
    },
    "id": "Hn66XEUJK3Hu",
    "outputId": "16b28deb-ad10-4b79-c9cc-3a810050a5c2"
   },
   "outputs": [
    {
     "data": {
      "text/plain": [
       "array([[ 0.02600013,  0.02600005, -0.02600005, ..., -0.02599967,\n",
       "        -0.02999961, -0.02999961],\n",
       "       [-0.03000006, -0.002     ,  0.026     , ..., -0.00600001,\n",
       "        -0.03000006,  0.01000002],\n",
       "       [ 0.01800004,  0.03      ,  0.02599996, ..., -0.02600005,\n",
       "         0.02600005, -0.02600005],\n",
       "       ...,\n",
       "       [-0.02999961, -0.01800004,  0.00600001, ...,  0.00599992,\n",
       "         0.02200002,  0.002     ],\n",
       "       [-0.02999961, -0.02600005, -0.02600005, ..., -0.02599967,\n",
       "         0.03000006, -0.02600005],\n",
       "       [-0.02999961, -0.02599967,  0.02999961, ..., -0.02599967,\n",
       "         0.02999961,  0.01399982]], dtype=float32)"
      ]
     },
     "execution_count": 37,
     "metadata": {},
     "output_type": "execute_result"
    }
   ],
   "source": [
    "pert_map_loaded[0][2]"
   ]
  },
  {
   "cell_type": "markdown",
   "id": "OBbUT4RmK5s2",
   "metadata": {
    "id": "OBbUT4RmK5s2"
   },
   "source": [
    "As seen above, each channel has the values ordered differently"
   ]
  },
  {
   "cell_type": "code",
   "execution_count": 38,
   "id": "ecd16b36-9235-4573-990c-74786d36a31a",
   "metadata": {
    "id": "ecd16b36-9235-4573-990c-74786d36a31a"
   },
   "outputs": [],
   "source": [
    "r_channels = np.concatenate(pert_map_loaded[:,0,:])\n",
    "g_channels = np.concatenate(pert_map_loaded[:,1,:])\n",
    "b_channels = np.concatenate(pert_map_loaded[:,2,:])"
   ]
  },
  {
   "cell_type": "code",
   "execution_count": 109,
   "id": "BuzFpEs2FE9v",
   "metadata": {
    "colab": {
     "base_uri": "https://localhost:8080/",
     "height": 305
    },
    "id": "BuzFpEs2FE9v",
    "outputId": "fa8176cc-4b0e-4a05-d4bd-a725328344cc"
   },
   "outputs": [
    {
     "data": {
      "image/png": "[encoded data removed]",
      "text/plain": [
       "<Figure size 500x1000 with 3 Axes>"
      ]
     },
     "metadata": {},
     "output_type": "display_data"
    }
   ],
   "source": [
    "fig, ax = plt.subplots(nrows=3, ncols=1, figsize=(5,10))\n",
    "title = \"RGB\"\n",
    "fig.tight_layout()\n",
    "colors = ['orangered','green','skyblue']\n",
    "for i,c in enumerate([r_channels, g_channels, b_channels]):\n",
    "  temp = r_channels.flatten()\n",
    "  q25, q75 = np.percentile(temp, [25, 75])\n",
    "  bin_width = 2 * (q75 - q25) * len(temp) ** (-1/3)\n",
    "  bins = round((temp.max() - temp.min()) / bin_width)\n",
    "\n",
    "  ax[i].hist(temp,density=False,bins=bins, color=colors[i])\n",
    "  ax[i].set_title(f\"{title[i]} Channel\")\n",
    "  ax[i].set_xlabel(\"Perturbation Value\")\n",
    "  ax[i].set_ylabel(\"Frequency\")\n",
    "  ax[i].ticklabel_format(useOffset=False, style='plain')\n",
    "fig.subplots_adjust(hspace=0.3)\n",
    "plt.show()"
   ]
  },
  {
   "cell_type": "code",
   "execution_count": 111,
   "id": "iAMg1OZNLJMT",
   "metadata": {
    "colab": {
     "base_uri": "https://localhost:8080/",
     "height": 284
    },
    "id": "iAMg1OZNLJMT",
    "outputId": "93e6f5d7-710e-413a-f6e6-a2b0fd53c7e5"
   },
   "outputs": [
    {
     "data": {
      "text/plain": [
       "<matplotlib.image.AxesImage at 0x23225a18a48>"
      ]
     },
     "execution_count": 111,
     "metadata": {},
     "output_type": "execute_result"
    },
    {
     "data": {
      "image/png": "[encoded data removed]",
      "text/plain": [
       "<Figure size 640x480 with 1 Axes>"
      ]
     },
     "metadata": {},
     "output_type": "display_data"
    }
   ],
   "source": [
    "temp = pert_map_loaded[5][0] + 1\n",
    "plt.imshow(temp / temp.max(), cmap='Reds')"
   ]
  },
  {
   "cell_type": "code",
   "execution_count": 112,
   "id": "Bgr19IZBI0Bx",
   "metadata": {
    "id": "Bgr19IZBI0Bx"
   },
   "outputs": [],
   "source": [
    "value_weights = np.array(np.unique(r_channels.flatten(), return_counts = True))\n",
    "value_weights[1] = value_weights[1] / value_weights[1].sum()"
   ]
  },
  {
   "cell_type": "code",
   "execution_count": 113,
   "id": "oTKMFDdqLJOy",
   "metadata": {
    "colab": {
     "base_uri": "https://localhost:8080/",
     "height": 284
    },
    "id": "oTKMFDdqLJOy",
    "outputId": "17f4419a-6483-44da-b5ca-4131eb1074c4"
   },
   "outputs": [
    {
     "data": {
      "text/plain": [
       "<matplotlib.image.AxesImage at 0x23225be5088>"
      ]
     },
     "execution_count": 113,
     "metadata": {},
     "output_type": "execute_result"
    },
    {
     "data": {
      "image/png": "[encoded data removed]",
      "text/plain": [
       "<Figure size 640x480 with 1 Axes>"
      ]
     },
     "metadata": {},
     "output_type": "display_data"
    }
   ],
   "source": [
    "random_mat = np.random.choice(value_weights[0], p=value_weights[1], size=(32,32)) + 1\n",
    "plt.imshow(random_mat / random_mat.max(), cmap='Reds')"
   ]
  },
  {
   "cell_type": "code",
   "execution_count": 114,
   "id": "879ca041-28f0-4f04-9c78-dd7d7a3af9ad",
   "metadata": {},
   "outputs": [
    {
     "data": {
      "image/png": "[encoded data removed]",
      "text/plain": [
       "<Figure size 640x480 with 2 Axes>"
      ]
     },
     "metadata": {},
     "output_type": "display_data"
    }
   ],
   "source": [
    "fig, axs = plt.subplots(1,2)\n",
    "axs[0].imshow(temp / temp.max(), cmap='Reds')\n",
    "axs[0].set_title(\"True Perturbation\")\n",
    "axs[0].set_xticks([])\n",
    "axs[0].set_yticks([])\n",
    "\n",
    "axs[1].imshow(random_mat / random_mat.max(), cmap='Reds')\n",
    "axs[1].set_title(\"FRMask\")\n",
    "axs[1].set_xticks([])\n",
    "axs[1].set_yticks([])\n",
    "\n",
    "plt.show()"
   ]
  },
  {
   "cell_type": "code",
   "execution_count": 45,
   "id": "CEvFhBksNEmb",
   "metadata": {
    "colab": {
     "base_uri": "https://localhost:8080/"
    },
    "id": "CEvFhBksNEmb",
    "outputId": "6b8d73b1-40f8-445d-f9de-43342492c2dd"
   },
   "outputs": [
    {
     "data": {
      "text/plain": [
       "array([[0.97000036, 1.02599967, 1.02599967, ..., 1.02599967, 0.97000039,\n",
       "        1.00199997],\n",
       "       [0.99800003, 1.03000006, 1.00199997, ..., 1.02199972, 1.01799977,\n",
       "        0.99400008],\n",
       "       [1.01799977, 0.97800028, 1.01399982, ..., 0.98200023, 0.98600018,\n",
       "        1.02999961],\n",
       "       ...,\n",
       "       [0.97000039, 0.98600018, 0.98199996, ..., 0.99800003, 0.97000039,\n",
       "        0.97000039],\n",
       "       [1.01799977, 0.97400033, 1.01799977, ..., 1.02999958, 1.02199972,\n",
       "        1.00600001],\n",
       "       [0.97399995, 1.03000008, 0.98600015, ..., 0.97000039, 1.02999961,\n",
       "        1.00999987]])"
      ]
     },
     "execution_count": 45,
     "metadata": {},
     "output_type": "execute_result"
    }
   ],
   "source": [
    "random_mat"
   ]
  },
  {
   "cell_type": "code",
   "execution_count": 46,
   "id": "h9oX-_ubJzt3",
   "metadata": {
    "colab": {
     "base_uri": "https://localhost:8080/"
    },
    "id": "h9oX-_ubJzt3",
    "outputId": "778e6936-5e59-41c5-c9c3-166dd9bd6bbc"
   },
   "outputs": [
    {
     "data": {
      "text/plain": [
       "True"
      ]
     },
     "execution_count": 46,
     "metadata": {},
     "output_type": "execute_result"
    }
   ],
   "source": [
    "np.all([np.sort(np.unique(r_channels.flatten(), return_counts = True)[0]),\n",
    "np.sort(np.unique(g_channels.flatten(), return_counts = True)[0]),\n",
    "np.sort(np.unique(b_channels.flatten(), return_counts = True)[0])])"
   ]
  },
  {
   "cell_type": "markdown",
   "id": "-nb7pB_-LBH6",
   "metadata": {
    "id": "-nb7pB_-LBH6"
   },
   "source": [
    "As seen above, all channels have the same perturbation values overall"
   ]
  },
  {
   "cell_type": "code",
   "execution_count": 47,
   "id": "8aec3fe7-f9d1-4bb6-b6d5-3afdddb53dea",
   "metadata": {},
   "outputs": [],
   "source": [
    "import cv2"
   ]
  },
  {
   "cell_type": "code",
   "execution_count": 48,
   "id": "fa9554ec-059f-4fe6-8e54-30f111c1ff87",
   "metadata": {
    "scrolled": true,
    "tags": []
   },
   "outputs": [
    {
     "data": {
      "text/plain": [
       "<matplotlib.image.AxesImage at 0x2310924fdc8>"
      ]
     },
     "execution_count": 48,
     "metadata": {},
     "output_type": "execute_result"
    },
    {
     "data": {
      "image/png": "[encoded data removed]",
      "text/plain": [
       "<Figure size 640x480 with 1 Axes>"
      ]
     },
     "metadata": {},
     "output_type": "display_data"
    }
   ],
   "source": [
    "t = None\n",
    "for x,y in trainloader:\n",
    "    # for i, im in enumerate(x):\n",
    "    #     # print(i)\n",
    "    #     plt.imshow(im.T)\n",
    "    #     plt.show()\n",
    "    t = x[43].detach().cpu().numpy()\n",
    "    break\n",
    "t_base = cv2.rotate(t.T, cv2.ROTATE_90_CLOCKWISE)\n",
    "plt.imshow(t_base)"
   ]
  },
  {
   "cell_type": "code",
   "execution_count": 49,
   "id": "25d4f3ec-5033-44aa-925a-3b166687c9f8",
   "metadata": {},
   "outputs": [
    {
     "data": {
      "text/plain": [
       "<matplotlib.image.AxesImage at 0x2310d275c08>"
      ]
     },
     "execution_count": 49,
     "metadata": {},
     "output_type": "execute_result"
    },
    {
     "data": {
      "image/png": "[encoded data removed]",
      "text/plain": [
       "<Figure size 640x480 with 1 Axes>"
      ]
     },
     "metadata": {},
     "output_type": "display_data"
    }
   ],
   "source": [
    "t_adv = pert_map_loaded[43] + t\n",
    "t_adv = cv2.rotate(t_adv.T, cv2.ROTATE_90_CLOCKWISE)\n",
    "t_adv[t_adv < 0] = 0.2\n",
    "plt.imshow(t_adv)"
   ]
  },
  {
   "cell_type": "code",
   "execution_count": 50,
   "id": "962b2a2d-8422-42dd-b480-cdffbb399175",
   "metadata": {},
   "outputs": [],
   "source": [
    "def apply_pmap_single(img, val_weights):\n",
    "    for i in range(img.shape[0]):\n",
    "        random_mat = np.random.choice(val_weights[i][0], p=val_weights[i][1], size=img.shape[1:])\n",
    "        img[i] += random_mat\n",
    "    return img"
   ]
  },
  {
   "cell_type": "code",
   "execution_count": 51,
   "id": "83a36d44-28a0-47f9-8b6b-2f11883da425",
   "metadata": {},
   "outputs": [
    {
     "data": {
      "text/plain": [
       "<matplotlib.image.AxesImage at 0x2310d306d88>"
      ]
     },
     "execution_count": 51,
     "metadata": {},
     "output_type": "execute_result"
    },
    {
     "data": {
      "image/png": "[encoded data removed]",
      "text/plain": [
       "<Figure size 640x480 with 1 Axes>"
      ]
     },
     "metadata": {},
     "output_type": "display_data"
    }
   ],
   "source": [
    "r = np.array(np.unique(r_channels.flatten(), return_counts = True))\n",
    "r[1] = r[1] / r[1].sum()\n",
    "g = np.array(np.unique(g_channels.flatten(), return_counts = True))\n",
    "g[1] = g[1] / g[1].sum()\n",
    "b = np.array(np.unique(b_channels.flatten(), return_counts = True))\n",
    "b[1] = b[1] / b[1].sum()\n",
    "val_weights = [r,g,b]\n",
    "t_pert = apply_pmap_single(t, val_weights)\n",
    "t_pert[t_pert < 0] = 0.2\n",
    "t_pert = cv2.rotate(t_pert.T, cv2.ROTATE_90_CLOCKWISE)\n",
    "plt.imshow(t_pert)"
   ]
  },
  {
   "cell_type": "code",
   "execution_count": 90,
   "id": "91c6f4f5-c621-452e-93f4-6beb4e885cd7",
   "metadata": {},
   "outputs": [
    {
     "data": {
      "image/png": "[encoded data removed]",
      "text/plain": [
       "<Figure size 640x480 with 3 Axes>"
      ]
     },
     "metadata": {},
     "output_type": "display_data"
    }
   ],
   "source": [
    "fig, axs = plt.subplots(1,3)\n",
    "\n",
    "temp = cv2.rotate(t_adv.T[0], cv2.ROTATE_90_CLOCKWISE)\n",
    "axs[0].imshow(temp,  cmap='gray')\n",
    "axs[0].set_title(\"Adverserial Image    -\")\n",
    "axs[0].set_xticks([])\n",
    "axs[0].set_yticks([])\n",
    "\n",
    "temp = cv2.rotate(t_base.T[0], cv2.ROTATE_90_CLOCKWISE)\n",
    "axs[1].imshow(temp, cmap='gray')\n",
    "axs[1].set_title(\"Base Image     =\", horizontalalignment='center')\n",
    "axs[1].set_xticks([])\n",
    "axs[1].set_yticks([])\n",
    "\n",
    "temp = cv2.rotate(t_adv.T[0] - t_base.T[0], cv2.ROTATE_90_CLOCKWISE)\n",
    "axs[2].imshow(temp,  cmap='gray')\n",
    "axs[2].set_title(\"Perturbation Mask\")\n",
    "axs[2].set_xticks([])\n",
    "axs[2].set_yticks([])\n",
    "\n",
    "plt.show()"
   ]
  },
  {
   "cell_type": "code",
   "execution_count": 110,
   "id": "5310855a-4f9c-4482-9c2c-a6651c90ab95",
   "metadata": {},
   "outputs": [
    {
     "data": {
      "image/png": "[encoded data removed]",
      "text/plain": [
       "<Figure size 640x480 with 3 Axes>"
      ]
     },
     "metadata": {},
     "output_type": "display_data"
    }
   ],
   "source": [
    "fig, axs = plt.subplots(1,3)\n",
    "axs[0].imshow(t_base)\n",
    "axs[0].set_title(\"Base Image\")\n",
    "axs[0].set_xticks([])\n",
    "axs[0].set_yticks([])\n",
    "\n",
    "axs[1].imshow(t_adv)\n",
    "axs[1].set_title(\"with Attack\")\n",
    "axs[1].set_xticks([])\n",
    "axs[1].set_yticks([])\n",
    "\n",
    "axs[2].imshow(t_pert)\n",
    "axs[2].set_title(\"with Overlay\")\n",
    "axs[2].set_xticks([])\n",
    "axs[2].set_yticks([])\n",
    "\n",
    "plt.show()"
   ]
  },
  {
   "cell_type": "code",
   "execution_count": 57,
   "id": "2f614c6b-344c-4e3e-ad23-e92e11a62695",
   "metadata": {},
   "outputs": [
    {
     "data": {
      "text/plain": [
       "<matplotlib.image.AxesImage at 0x2316a45f808>"
      ]
     },
     "execution_count": 57,
     "metadata": {},
     "output_type": "execute_result"
    },
    {
     "data": {
      "image/png": "[encoded data removed]",
      "text/plain": [
       "<Figure size 640x480 with 1 Axes>"
      ]
     },
     "metadata": {},
     "output_type": "display_data"
    }
   ],
   "source": [
    "plt.imshow(t_adv.T[0]-t_base.T[0], cmap='gray')"
   ]
  },
  {
   "cell_type": "markdown",
   "id": "6071972c-e278-4f8f-b162-ad04b49a950b",
   "metadata": {},
   "source": [
    "### Adversarial Training"
   ]
  },
  {
   "cell_type": "code",
   "execution_count": 3,
   "id": "4b7c4e28-aa70-4bf4-9aba-a5e490044ac4",
   "metadata": {
    "id": "4b7c4e28-aa70-4bf4-9aba-a5e490044ac4",
    "outputId": "4cf7cce9-e8d5-4a62-ba3c-33dfda66271d"
   },
   "outputs": [
    {
     "name": "stdout",
     "output_type": "stream",
     "text": [
      "Files already downloaded and verified\n"
     ]
    }
   ],
   "source": [
    "transform = transforms.Compose(\n",
    "    [transforms.ToTensor()])\n",
    "batch_size = 64\n",
    "\n",
    "trainset = torchvision.datasets.CIFAR10(root='./data', train=True,\n",
    "                                        download=True, transform=transform)\n",
    "\n",
    "subset = torch.utils.data.Subset(trainset, indices=np.arange(40000))\n",
    "del subset\n",
    "trainloader = torch.utils.data.DataLoader(trainset, batch_size=batch_size, num_workers=2)"
   ]
  },
  {
   "cell_type": "code",
   "execution_count": 4,
   "id": "4b6ccd57-3be1-4c3c-a2d0-028be8eb123c",
   "metadata": {},
   "outputs": [],
   "source": [
    "def apply_pmap(batch, val_weights):\n",
    "    out = []\n",
    "    for img in batch.numpy():\n",
    "        for i in range(img.shape[0]):\n",
    "            random_mat = np.random.choice(val_weights[i][0], p=val_weights[i][1], size=img.shape[1:])\n",
    "            img[i] += random_mat\n",
    "        out.append(img)\n",
    "            \n",
    "    return torch.tensor(np.array(out))"
   ]
  },
  {
   "cell_type": "code",
   "execution_count": 5,
   "id": "d04939d8-0b29-4a6f-9eab-0b3dc80d3132",
   "metadata": {},
   "outputs": [],
   "source": [
    "def load_pert_maps():\n",
    "    pgd_maps = {}\n",
    "    for i in [2,3,4,5,6,7]:\n",
    "        pert_map_loaded = joblib.load(f\"perturbation_mapsPGD_40k_steps{i}.dump\")\n",
    "        \n",
    "        r_channels = np.concatenate(pert_map_loaded[:,0,:])\n",
    "        g_channels = np.concatenate(pert_map_loaded[:,1,:])\n",
    "        b_channels = np.concatenate(pert_map_loaded[:,2,:])\n",
    "        \n",
    "        r = np.array(np.unique(r_channels.flatten(), return_counts = True))\n",
    "        r[1] = r[1] / r[1].sum()\n",
    "        g = np.array(np.unique(g_channels.flatten(), return_counts = True))\n",
    "        g[1] = g[1] / g[1].sum()\n",
    "        b = np.array(np.unique(b_channels.flatten(), return_counts = True))\n",
    "        b[1] = b[1] / b[1].sum()\n",
    "        pgd_maps[i] = [r,g,b]\n",
    "    return pgd_maps\n",
    "\n",
    "\n",
    "val_weights = load_pert_maps()        "
   ]
  },
  {
   "cell_type": "code",
   "execution_count": 6,
   "id": "e8e4c0c4-c10c-4ec3-95c4-88e9b5d34e77",
   "metadata": {},
   "outputs": [],
   "source": [
    "def adv_train(model, loader, num_epoch = 10): # Train the model\n",
    "    print(\"Start training...\")\n",
    "    model.train() # Set the model to training mode\n",
    "    for i in range(num_epoch):\n",
    "        \n",
    "        adjust_learning_rate(optimizer, i, lr)\n",
    "        \n",
    "        running_loss = []\n",
    "        correct=0\n",
    "        for batch, label in tqdm(loader):\n",
    "            label = label.to(device)\n",
    "            \n",
    "            # train on abse sample\n",
    "            batch = batch.to(device)\n",
    "            optimizer.zero_grad() # Clear gradients from the previous iteration\n",
    "            pred = model(batch) # This will call Network.forward() that you implement\n",
    "            loss = criterion(pred, label) # Calculate the loss\n",
    "            running_loss.append(loss.item())\n",
    "            loss.backward() # Backprop gradients to all tensors in the network\n",
    "            optimizer.step() # Update trainable weights\n",
    "            correct += (torch.argmax(pred,dim=1)==label).sum().item()\n",
    "            \n",
    "            # training on pgd steps adv data\n",
    "            for key in val_weights:\n",
    "                p_batch = apply_pmap(batch.detach().cpu(), val_weights[key])\n",
    "                p_batch = p_batch.to(device)\n",
    "                \n",
    "                optimizer.zero_grad() # Clear gradients from the previous iteration\n",
    "                pred = model(p_batch) # This will call Network.forward() that you implement\n",
    "                loss = criterion(pred, label) # Calculate the loss\n",
    "                running_loss.append(loss.item())\n",
    "                loss.backward() # Backprop gradients to all tensors in the network\n",
    "                optimizer.step() # Update trainable weights\n",
    "                correct += (torch.argmax(pred,dim=1)==label).sum().item()\n",
    "                    \n",
    "        acc = correct/(len(loader.dataset)*(len(val_weights.keys())+1))\n",
    "        \n",
    "        print(f\"Epoch {i}\\t\\tacc: {acc:.4f}\")\n",
    "        print(\"\\t\\tloss: {}\".format(np.mean(running_loss))) # Print the average loss for this epoch\n",
    "    print(\"Done!\")"
   ]
  },
  {
   "cell_type": "code",
   "execution_count": 7,
   "id": "670bdb02-32db-4882-b5bb-7e0e684af91b",
   "metadata": {},
   "outputs": [],
   "source": [
    "def adjust_learning_rate(optimizer, epoch, lr):\n",
    "    \"\"\"Sets the learning rate to the initial LR decayed by 2 every 30 epochs\"\"\"\n",
    "    lr = lr * (0.5 ** (epoch // 30))\n",
    "    for param_group in optimizer.param_groups:\n",
    "        param_group['lr'] = lr"
   ]
  },
  {
   "cell_type": "code",
   "execution_count": 8,
   "id": "18bcd117-26db-4756-be63-014b56f7b5ec",
   "metadata": {},
   "outputs": [],
   "source": [
    "model = torch.load(\"vgg_cifar.h5\")  "
   ]
  },
  {
   "cell_type": "code",
   "execution_count": 9,
   "id": "9f6b9f4e-0366-48c2-840e-8ba3f0193b98",
   "metadata": {},
   "outputs": [],
   "source": [
    "import torch.optim as optim\n",
    "lr = 0.001\n",
    "criterion = torch.nn.CrossEntropyLoss()\n",
    "optimizer = torch.optim.SGD(model.parameters(), lr = lr, momentum=0.9,weight_decay=5e-4)"
   ]
  },
  {
   "cell_type": "code",
   "execution_count": null,
   "id": "0a2e4dea-410e-4dc5-88c8-45c7dd756c08",
   "metadata": {},
   "outputs": [],
   "source": [
    "adv_train(model, trainloader)"
   ]
  },
  {
   "cell_type": "code",
   "execution_count": 11,
   "id": "f3f414b0-8bab-472a-82f6-8f96773492fa",
   "metadata": {},
   "outputs": [],
   "source": [
    "torch.save(model, \"vgg_cifar_adv_train.h5\")"
   ]
  },
  {
   "cell_type": "markdown",
   "id": "c01c38f3-fcfc-4091-a7b3-6fa924663279",
   "metadata": {
    "id": "kFahklJlLWeH",
    "tags": []
   },
   "source": [
    "### FINAL STEP - Test attacks on the models"
   ]
  },
  {
   "cell_type": "code",
   "execution_count": null,
   "id": "cc05f660-ab75-41ce-9dfd-882ef792a2ea",
   "metadata": {
    "id": "cc05f660-ab75-41ce-9dfd-882ef792a2ea"
   },
   "outputs": [
    {
     "name": "stderr",
     "output_type": "stream",
     "text": [
      "100%|████████████████████████████████████████████████████████████████████████████████| 313/313 [00:08<00:00, 34.82it/s]"
     ]
    },
    {
     "name": "stdout",
     "output_type": "stream",
     "text": [
      "Evaluation accuracy: 0.8842\n"
     ]
    },
    {
     "name": "stderr",
     "output_type": "stream",
     "text": [
      "\n"
     ]
    }
   ],
   "source": [
    "model_2 = torch.load(\"vgg_cifar.h5\")\n",
    "og_acc = evaluate(model_2, testloader)"
   ]
  },
  {
   "cell_type": "code",
   "execution_count": null,
   "id": "8530996b-8921-4ad0-a0c2-8db545859cad",
   "metadata": {},
   "outputs": [
    {
     "name": "stderr",
     "output_type": "stream",
     "text": [
      "100%|████████████████████████████████████████████████████████████████████████████████| 313/313 [00:09<00:00, 34.05it/s]"
     ]
    },
    {
     "name": "stdout",
     "output_type": "stream",
     "text": [
      "Evaluation accuracy: 0.9095\n"
     ]
    },
    {
     "name": "stderr",
     "output_type": "stream",
     "text": [
      "\n"
     ]
    }
   ],
   "source": [
    "model_1 = torch.load(\"vgg_ciar_adv_train.h5\")\n",
    "adv_acc = evaluate(model_1, testloader)"
   ]
  },
  {
   "cell_type": "code",
   "execution_count": null,
   "id": "d1028499-d815-425c-b616-7d1189f39c0b",
   "metadata": {},
   "outputs": [],
   "source": [
    "# del model"
   ]
  },
  {
   "cell_type": "code",
   "execution_count": null,
   "id": "deGz0574LaLM",
   "metadata": {
    "id": "deGz0574LaLM"
   },
   "outputs": [],
   "source": [
    "def evaluate_attack(model, loader, attack, attack_name, steps=None): # Evaluate accuracy on validation / test set\n",
    "    model.eval() # Set the model to evaluation mode\n",
    "    correct = 0\n",
    "    with torch.no_grad(): # Do not calculate grident to speed up computation\n",
    "        for batch, label in tqdm(loader):\n",
    "            batch = batch.to(device)\n",
    "            label = label.to(device)\n",
    "            with torch.enable_grad():\n",
    "                if attack_name == \"FGSM\":\n",
    "                    batch = attack.attack(batch, label)\n",
    "                elif attack_name == \"PGD\":\n",
    "                    batch = attack.attack(batch, label, steps)\n",
    "            pred = model(batch)\n",
    "            correct += (torch.argmax(pred,dim=1)==label).sum().item()\n",
    "    acc = correct/len(loader.dataset)\n",
    "    return acc"
   ]
  },
  {
   "cell_type": "code",
   "execution_count": null,
   "id": "aNdWPJ_R0Z2I",
   "metadata": {
    "id": "aNdWPJ_R0Z2I"
   },
   "outputs": [],
   "source": [
    "class PerturbPGD():\n",
    "    def __init__(self, model, epsilon=0.007, alpha=0.001):\n",
    "        self.epsilon = epsilon\n",
    "        self.model = model\n",
    "        self.steps = 2\n",
    "        self.alpha = alpha\n",
    "        self.device = device\n",
    "    \n",
    "    def attack(self, X, y, steps=None):\n",
    "        if steps != None:\n",
    "            self.steps = steps\n",
    "        \n",
    "        # Creating copy of input that gets iteratively perturbated\n",
    "        # using torch.autograd.Variable through the process since without it gradients arent being stored\n",
    "        X_updt = torch.autograd.Variable(X.data, requires_grad=True)\n",
    "        for i in range(self.steps):\n",
    "            pred = self.model(X_updt)\n",
    "            # zeroing gradients\n",
    "            self.model.zero_grad()\n",
    "            loss = F.cross_entropy(pred, y)\n",
    "            loss.backward()\n",
    "            # extract signs of gradients and permute alphas\n",
    "            alphas = alpha * torch.sign(X_updt.grad)\n",
    "            # update input features with alpha\n",
    "            X_updt = torch.autograd.Variable(X_updt + alphas, requires_grad=True)\n",
    "            # perturbate \n",
    "            X_updt = torch.autograd.Variable(X_updt + torch.clamp(X_updt - X, min=-self.epsilon, max=self.epsilon), requires_grad=True)\n",
    "        return X_updt\n",
    "\n"
   ]
  },
  {
   "cell_type": "code",
   "execution_count": null,
   "id": "1bc2b44d-f565-4fb8-8fa1-1cb45845854b",
   "metadata": {},
   "outputs": [
    {
     "name": "stderr",
     "output_type": "stream",
     "text": [
      "100%|████████████████████████████████████████████████████████████████████████████████| 313/313 [00:17<00:00, 17.98it/s]\n"
     ]
    },
    {
     "name": "stdout",
     "output_type": "stream",
     "text": [
      "PGD Perpturbation applied on test set - Steps: 1\taccuracy: 0.7053\tattack success rate: 20.23%\n"
     ]
    },
    {
     "name": "stderr",
     "output_type": "stream",
     "text": [
      "100%|████████████████████████████████████████████████████████████████████████████████| 313/313 [00:26<00:00, 11.84it/s]\n"
     ]
    },
    {
     "name": "stdout",
     "output_type": "stream",
     "text": [
      "PGD Perpturbation applied on test set - Steps: 2\taccuracy: 0.3624\tattack success rate: 59.01%\n"
     ]
    },
    {
     "name": "stderr",
     "output_type": "stream",
     "text": [
      "100%|████████████████████████████████████████████████████████████████████████████████| 313/313 [00:35<00:00,  8.80it/s]\n"
     ]
    },
    {
     "name": "stdout",
     "output_type": "stream",
     "text": [
      "PGD Perpturbation applied on test set - Steps: 3\taccuracy: 0.1048\tattack success rate: 88.15%\n"
     ]
    },
    {
     "name": "stderr",
     "output_type": "stream",
     "text": [
      "100%|████████████████████████████████████████████████████████████████████████████████| 313/313 [00:44<00:00,  6.98it/s]\n"
     ]
    },
    {
     "name": "stdout",
     "output_type": "stream",
     "text": [
      "PGD Perpturbation applied on test set - Steps: 4\taccuracy: 0.0270\tattack success rate: 96.95%\n"
     ]
    },
    {
     "name": "stderr",
     "output_type": "stream",
     "text": [
      "100%|████████████████████████████████████████████████████████████████████████████████| 313/313 [00:54<00:00,  5.76it/s]\n"
     ]
    },
    {
     "name": "stdout",
     "output_type": "stream",
     "text": [
      "PGD Perpturbation applied on test set - Steps: 5\taccuracy: 0.0107\tattack success rate: 98.79%\n"
     ]
    },
    {
     "name": "stderr",
     "output_type": "stream",
     "text": [
      "100%|████████████████████████████████████████████████████████████████████████████████| 313/313 [01:03<00:00,  4.96it/s]\n"
     ]
    },
    {
     "name": "stdout",
     "output_type": "stream",
     "text": [
      "PGD Perpturbation applied on test set - Steps: 6\taccuracy: 0.0138\tattack success rate: 98.44%\n"
     ]
    },
    {
     "name": "stderr",
     "output_type": "stream",
     "text": [
      "100%|████████████████████████████████████████████████████████████████████████████████| 313/313 [01:12<00:00,  4.31it/s]"
     ]
    },
    {
     "name": "stdout",
     "output_type": "stream",
     "text": [
      "PGD Perpturbation applied on test set - Steps: 7\taccuracy: 0.0442\tattack success rate: 95.00%\n"
     ]
    },
    {
     "name": "stderr",
     "output_type": "stream",
     "text": [
      "\n"
     ]
    }
   ],
   "source": [
    "epsilon = 25./255.\n",
    "alpha = 0.001\n",
    "succ_rate = []\n",
    "for i in range(1,8):\n",
    "    pgd_acc = evaluate_attack(model_2, testloader, PerturbPGD(model_2, epsilon, alpha), \"PGD\", steps=i)\n",
    "    succ = (og_acc-pgd_acc)/og_acc\n",
    "    succ_rate.append(succ)\n",
    "    print(f\"PGD Perpturbation applied on test set - Steps: {i}\\taccuracy: {pgd_acc:.4f}\\tattack success rate: {succ*100:.2f}%\")"
   ]
  },
  {
   "cell_type": "code",
   "execution_count": null,
   "id": "896e48b2-372d-4459-9b9d-91f4217c0757",
   "metadata": {},
   "outputs": [],
   "source": [
    "pgd_attack_1_metrics = np.array([[1, 0.7053, 0.2023],[2,0.3624,0.5901],[3,0.1048,00.8815],[4,0.0270, 0.9695], [5, 0.0107, 0.9879], [6, 0.0318, 0.9844], [7, 0.0443, 0.9500]])"
   ]
  },
  {
   "cell_type": "code",
   "execution_count": null,
   "id": "11ab51b3-42ca-4ce1-9a93-8b4e325fa0dc",
   "metadata": {},
   "outputs": [],
   "source": [
    "# del model_2"
   ]
  },
  {
   "cell_type": "code",
   "execution_count": null,
   "id": "2eb62eed-fb8e-4386-bc81-d5e603e9a421",
   "metadata": {
    "id": "2eb62eed-fb8e-4386-bc81-d5e603e9a421"
   },
   "outputs": [
    {
     "name": "stderr",
     "output_type": "stream",
     "text": [
      "100%|████████████████████████████████████████████████████████████████████████████████| 313/313 [00:18<00:00, 17.13it/s]\n"
     ]
    },
    {
     "name": "stdout",
     "output_type": "stream",
     "text": [
      "PGD Perpturbation applied on test set - Steps: 1\taccuracy: 0.7996\tattack success rate: 12.08%\n"
     ]
    },
    {
     "name": "stderr",
     "output_type": "stream",
     "text": [
      "100%|████████████████████████████████████████████████████████████████████████████████| 313/313 [00:26<00:00, 11.76it/s]\n"
     ]
    },
    {
     "name": "stdout",
     "output_type": "stream",
     "text": [
      "PGD Perpturbation applied on test set - Steps: 2\taccuracy: 0.5335\tattack success rate: 41.34%\n"
     ]
    },
    {
     "name": "stderr",
     "output_type": "stream",
     "text": [
      "100%|████████████████████████████████████████████████████████████████████████████████| 313/313 [00:35<00:00,  8.79it/s]\n"
     ]
    },
    {
     "name": "stdout",
     "output_type": "stream",
     "text": [
      "PGD Perpturbation applied on test set - Steps: 3\taccuracy: 0.2415\tattack success rate: 73.45%\n"
     ]
    },
    {
     "name": "stderr",
     "output_type": "stream",
     "text": [
      "100%|████████████████████████████████████████████████████████████████████████████████| 313/313 [00:45<00:00,  6.82it/s]\n"
     ]
    },
    {
     "name": "stdout",
     "output_type": "stream",
     "text": [
      "PGD Perpturbation applied on test set - Steps: 4\taccuracy: 0.0883\tattack success rate: 90.29%\n"
     ]
    },
    {
     "name": "stderr",
     "output_type": "stream",
     "text": [
      "100%|████████████████████████████████████████████████████████████████████████████████| 313/313 [00:56<00:00,  5.56it/s]\n"
     ]
    },
    {
     "name": "stdout",
     "output_type": "stream",
     "text": [
      "PGD Perpturbation applied on test set - Steps: 5\taccuracy: 0.0431\tattack success rate: 95.26%\n"
     ]
    },
    {
     "name": "stderr",
     "output_type": "stream",
     "text": [
      "100%|████████████████████████████████████████████████████████████████████████████████| 313/313 [01:06<00:00,  4.70it/s]\n"
     ]
    },
    {
     "name": "stdout",
     "output_type": "stream",
     "text": [
      "PGD Perpturbation applied on test set - Steps: 6\taccuracy: 0.0357\tattack success rate: 96.07%\n"
     ]
    },
    {
     "name": "stderr",
     "output_type": "stream",
     "text": [
      "100%|████████████████████████████████████████████████████████████████████████████████| 313/313 [01:15<00:00,  4.16it/s]"
     ]
    },
    {
     "name": "stdout",
     "output_type": "stream",
     "text": [
      "PGD Perpturbation applied on test set - Steps: 7\taccuracy: 0.0669\tattack success rate: 92.64%\n"
     ]
    },
    {
     "name": "stderr",
     "output_type": "stream",
     "text": [
      "\n"
     ]
    }
   ],
   "source": [
    "epsilon = 25./255.\n",
    "alpha = 0.001\n",
    "succ_rate = []\n",
    "for i in range(1,8):\n",
    "    pgd_acc = evaluate_attack(model_1, testloader, PerturbPGD(model_1, epsilon, alpha), \"PGD\", steps=i)\n",
    "    succ = (adv_acc-pgd_acc)/adv_acc\n",
    "    succ_rate.append(succ)\n",
    "    print(f\"PGD Perpturbation applied on test set - Steps: {i}\\taccuracy: {pgd_acc:.4f}\\tattack success rate: {succ*100:.2f}%\")"
   ]
  },
  {
   "cell_type": "code",
   "execution_count": null,
   "id": "edffde2a-4ff6-4275-a1f6-3b29941505b8",
   "metadata": {},
   "outputs": [],
   "source": [
    "pgd_attack_2_metrics = np.array([[1,0.7996, 0.1208],[2,0.5335, 000.4134],[3,0.2415, 0.7345],[4,0.0883, 00.9029], [5, 0.0431, 0.9526], [6, 0.0357, 0.9607], [7, 0.0669, 0.9264]])"
   ]
  },
  {
   "cell_type": "code",
   "execution_count": null,
   "id": "bba379c9-01c4-4b3a-8f09-e7057de98cd5",
   "metadata": {},
   "outputs": [
    {
     "name": "stderr",
     "output_type": "stream",
     "text": [
      "100%|████████████████████████████████████████████████████████████████████████████████| 313/313 [00:18<00:00, 17.38it/s]\n"
     ]
    },
    {
     "name": "stdout",
     "output_type": "stream",
     "text": [
      "PGD Perpturbation applied on test set - Steps: 1\taccuracy: 0.8641\tattack success rate: 4.99%\n"
     ]
    },
    {
     "name": "stderr",
     "output_type": "stream",
     "text": [
      "100%|████████████████████████████████████████████████████████████████████████████████| 313/313 [00:27<00:00, 11.33it/s]\n"
     ]
    },
    {
     "name": "stdout",
     "output_type": "stream",
     "text": [
      "PGD Perpturbation applied on test set - Steps: 2\taccuracy: 0.7317\tattack success rate: 19.55%\n"
     ]
    },
    {
     "name": "stderr",
     "output_type": "stream",
     "text": [
      "100%|████████████████████████████████████████████████████████████████████████████████| 313/313 [00:37<00:00,  8.41it/s]\n"
     ]
    },
    {
     "name": "stdout",
     "output_type": "stream",
     "text": [
      "PGD Perpturbation applied on test set - Steps: 3\taccuracy: 0.4231\tattack success rate: 53.48%\n"
     ]
    },
    {
     "name": "stderr",
     "output_type": "stream",
     "text": [
      "100%|████████████████████████████████████████████████████████████████████████████████| 313/313 [00:46<00:00,  6.68it/s]\n"
     ]
    },
    {
     "name": "stdout",
     "output_type": "stream",
     "text": [
      "PGD Perpturbation applied on test set - Steps: 4\taccuracy: 0.1232\tattack success rate: 86.45%\n"
     ]
    },
    {
     "name": "stderr",
     "output_type": "stream",
     "text": [
      "100%|████████████████████████████████████████████████████████████████████████████████| 313/313 [00:56<00:00,  5.54it/s]\n"
     ]
    },
    {
     "name": "stdout",
     "output_type": "stream",
     "text": [
      "PGD Perpturbation applied on test set - Steps: 5\taccuracy: 0.0365\tattack success rate: 95.99%\n"
     ]
    },
    {
     "name": "stderr",
     "output_type": "stream",
     "text": [
      "100%|████████████████████████████████████████████████████████████████████████████████| 313/313 [01:05<00:00,  4.81it/s]\n"
     ]
    },
    {
     "name": "stdout",
     "output_type": "stream",
     "text": [
      "PGD Perpturbation applied on test set - Steps: 6\taccuracy: 0.0359\tattack success rate: 96.05%\n"
     ]
    },
    {
     "name": "stderr",
     "output_type": "stream",
     "text": [
      "100%|████████████████████████████████████████████████████████████████████████████████| 313/313 [01:11<00:00,  4.36it/s]"
     ]
    },
    {
     "name": "stdout",
     "output_type": "stream",
     "text": [
      "PGD Perpturbation applied on test set - Steps: 7\taccuracy: 0.0742\tattack success rate: 91.84%\n"
     ]
    },
    {
     "name": "stderr",
     "output_type": "stream",
     "text": [
      "\n"
     ]
    }
   ],
   "source": [
    "# test samples attacked using og model on adv trained model\n",
    "epsilon = 25./255.\n",
    "alpha = 0.001\n",
    "succ_rate = []\n",
    "for i in range(1,8):\n",
    "    pgd_acc = evaluate_attack(model_1, testloader, PerturbPGD(model_2, epsilon, alpha), \"PGD\", steps=i)\n",
    "    succ = (adv_acc-pgd_acc)/adv_acc\n",
    "    succ_rate.append(succ)\n",
    "    print(f\"PGD Perpturbation applied on test set - Steps: {i}\\taccuracy: {pgd_acc:.4f}\\tattack success rate: {succ*100:.2f}%\")"
   ]
  },
  {
   "cell_type": "code",
   "execution_count": null,
   "id": "fcb1a555-61f5-452c-a69e-c40917c6eb1f",
   "metadata": {},
   "outputs": [],
   "source": [
    "pgd_attack_3_metrics = np.array([[1,0.8641, 0.0499],[2,0.7317, 0.1955],[3,0.4231, 0.5348],[4,0.1232, 0.8645], [5, 0.0365, 0.9599], [6, 0.0359, 0.9605], [7, 0.0742, 0.9184]])"
   ]
  },
  {
   "cell_type": "code",
   "execution_count": null,
   "id": "677a4344-f72e-4683-ab70-a381230a0d2e",
   "metadata": {},
   "outputs": [
    {
     "data": {
      "image/png": "[encoded data removed]",
      "text/plain": [
       "<Figure size 1000x500 with 2 Axes>"
      ]
     },
     "metadata": {},
     "output_type": "display_data"
    }
   ],
   "source": [
    "# plot training metrics\n",
    "fig, ax = plt.subplots(1,2,figsize=(10,5))\n",
    "ax[0].plot(pgd_attack_1_metrics.T[1], label=\"Model A\")\n",
    "ax[0].plot(pgd_attack_2_metrics.T[1], label=\"Model B\")\n",
    "ax[0].plot(pgd_attack_3_metrics.T[1], label=\"Hypothetical Attack\")\n",
    "ax[0].legend()\n",
    "ax[0].set_title(\"Accuracy Comparison\")\n",
    "\n",
    "ax[1].plot(pgd_attack_1_metrics.T[2], label=\"Model A\")\n",
    "ax[1].plot(pgd_attack_2_metrics.T[2], label=\"Model B\")\n",
    "ax[1].plot(pgd_attack_3_metrics.T[2], label=\"Hypothetical Attack\")\n",
    "ax[1].legend()\n",
    "ax[1].set_title(\"Attack Success Rate Comparison\")\n",
    "\n",
    "# fig.subplots_adjust(wspace=1.2)\n",
    "plt.show()"
   ]
  }
 ],
 "metadata": {
  "colab": {
   "provenance": []
  },
  "gpuClass": "standard",
  "kernelspec": {
   "display_name": "pytorch",
   "language": "python",
   "name": "pytorch"
  },
  "language_info": {
   "codemirror_mode": {
    "name": "ipython",
    "version": 3
   },
   "file_extension": ".py",
   "mimetype": "text/x-python",
   "name": "python",
   "nbconvert_exporter": "python",
   "pygments_lexer": "ipython3",
   "version": "3.7.15"
  },
  "widgets": {
   "application/vnd.jupyter.widget-state+json": {
    "0ecab7b982ff4064a5c2e36147fdccc3": {
     "model_module": "@jupyter-widgets/base",
     "model_module_version": "1.2.0",
     "model_name": "LayoutModel",
     "state": {
      "_model_module": "@jupyter-widgets/base",
      "_model_module_version": "1.2.0",
      "_model_name": "LayoutModel",
      "_view_count": null,
      "_view_module": "@jupyter-widgets/base",
      "_view_module_version": "1.2.0",
      "_view_name": "LayoutView",
      "align_content": null,
      "align_items": null,
      "align_self": null,
      "border": null,
      "bottom": null,
      "display": null,
      "flex": null,
      "flex_flow": null,
      "grid_area": null,
      "grid_auto_columns": null,
      "grid_auto_flow": null,
      "grid_auto_rows": null,
      "grid_column": null,
      "grid_gap": null,
      "grid_row": null,
      "grid_template_areas": null,
      "grid_template_columns": null,
      "grid_template_rows": null,
      "height": null,
      "justify_content": null,
      "justify_items": null,
      "left": null,
      "margin": null,
      "max_height": null,
      "max_width": null,
      "min_height": null,
      "min_width": null,
      "object_fit": null,
      "object_position": null,
      "order": null,
      "overflow": null,
      "overflow_x": null,
      "overflow_y": null,
      "padding": null,
      "right": null,
      "top": null,
      "visibility": null,
      "width": null
     }
    },
    "20551f4826c64bc3b62de6ccb438fb66": {
     "model_module": "@jupyter-widgets/controls",
     "model_module_version": "1.5.0",
     "model_name": "HBoxModel",
     "state": {
      "_dom_classes": [],
      "_model_module": "@jupyter-widgets/controls",
      "_model_module_version": "1.5.0",
      "_model_name": "HBoxModel",
      "_view_count": null,
      "_view_module": "@jupyter-widgets/controls",
      "_view_module_version": "1.5.0",
      "_view_name": "HBoxView",
      "box_style": "",
      "children": [
       "IPY_MODEL_cfaae0f77d484152ac631f2aaedd55da",
       "IPY_MODEL_afb7033f0a0d42518d30755d1c45fc98",
       "IPY_MODEL_4d498206376041f0954cbd70a10cedab"
      ],
      "layout": "IPY_MODEL_5ac682a3cb9540fc8a70aed459ae2d3d"
     }
    },
    "29d8dfd745934a8289a142e9d85dfedb": {
     "model_module": "@jupyter-widgets/base",
     "model_module_version": "1.2.0",
     "model_name": "LayoutModel",
     "state": {
      "_model_module": "@jupyter-widgets/base",
      "_model_module_version": "1.2.0",
      "_model_name": "LayoutModel",
      "_view_count": null,
      "_view_module": "@jupyter-widgets/base",
      "_view_module_version": "1.2.0",
      "_view_name": "LayoutView",
      "align_content": null,
      "align_items": null,
      "align_self": null,
      "border": null,
      "bottom": null,
      "display": null,
      "flex": null,
      "flex_flow": null,
      "grid_area": null,
      "grid_auto_columns": null,
      "grid_auto_flow": null,
      "grid_auto_rows": null,
      "grid_column": null,
      "grid_gap": null,
      "grid_row": null,
      "grid_template_areas": null,
      "grid_template_columns": null,
      "grid_template_rows": null,
      "height": null,
      "justify_content": null,
      "justify_items": null,
      "left": null,
      "margin": null,
      "max_height": null,
      "max_width": null,
      "min_height": null,
      "min_width": null,
      "object_fit": null,
      "object_position": null,
      "order": null,
      "overflow": null,
      "overflow_x": null,
      "overflow_y": null,
      "padding": null,
      "right": null,
      "top": null,
      "visibility": null,
      "width": null
     }
    },
    "388a235c40334d0f977561deaee240a1": {
     "model_module": "@jupyter-widgets/controls",
     "model_module_version": "1.5.0",
     "model_name": "DescriptionStyleModel",
     "state": {
      "_model_module": "@jupyter-widgets/controls",
      "_model_module_version": "1.5.0",
      "_model_name": "DescriptionStyleModel",
      "_view_count": null,
      "_view_module": "@jupyter-widgets/base",
      "_view_module_version": "1.2.0",
      "_view_name": "StyleView",
      "description_width": ""
     }
    },
    "3fb0053447bb4557b2fadd131f052004": {
     "model_module": "@jupyter-widgets/controls",
     "model_module_version": "1.5.0",
     "model_name": "HTMLModel",
     "state": {
      "_dom_classes": [],
      "_model_module": "@jupyter-widgets/controls",
      "_model_module_version": "1.5.0",
      "_model_name": "HTMLModel",
      "_view_count": null,
      "_view_module": "@jupyter-widgets/controls",
      "_view_module_version": "1.5.0",
      "_view_name": "HTMLView",
      "description": "",
      "description_tooltip": null,
      "layout": "IPY_MODEL_0ecab7b982ff4064a5c2e36147fdccc3",
      "placeholder": "​",
      "style": "IPY_MODEL_e73ca517e24b4812974b84ce14c6e801",
      "value": "100%"
     }
    },
    "48ee38d61fef43c9b445087228befa85": {
     "model_module": "@jupyter-widgets/controls",
     "model_module_version": "1.5.0",
     "model_name": "DescriptionStyleModel",
     "state": {
      "_model_module": "@jupyter-widgets/controls",
      "_model_module_version": "1.5.0",
      "_model_name": "DescriptionStyleModel",
      "_view_count": null,
      "_view_module": "@jupyter-widgets/base",
      "_view_module_version": "1.2.0",
      "_view_name": "StyleView",
      "description_width": ""
     }
    },
    "4d498206376041f0954cbd70a10cedab": {
     "model_module": "@jupyter-widgets/controls",
     "model_module_version": "1.5.0",
     "model_name": "HTMLModel",
     "state": {
      "_dom_classes": [],
      "_model_module": "@jupyter-widgets/controls",
      "_model_module_version": "1.5.0",
      "_model_name": "HTMLModel",
      "_view_count": null,
      "_view_module": "@jupyter-widgets/controls",
      "_view_module_version": "1.5.0",
      "_view_name": "HTMLView",
      "description": "",
      "description_tooltip": null,
      "layout": "IPY_MODEL_6b3f43066a9d42389423beccbd53c4f6",
      "placeholder": "​",
      "style": "IPY_MODEL_e87eb599a1c341b19c53a0aa289907d6",
      "value": " 528M/528M [00:04&lt;00:00, 143MB/s]"
     }
    },
    "5ac682a3cb9540fc8a70aed459ae2d3d": {
     "model_module": "@jupyter-widgets/base",
     "model_module_version": "1.2.0",
     "model_name": "LayoutModel",
     "state": {
      "_model_module": "@jupyter-widgets/base",
      "_model_module_version": "1.2.0",
      "_model_name": "LayoutModel",
      "_view_count": null,
      "_view_module": "@jupyter-widgets/base",
      "_view_module_version": "1.2.0",
      "_view_name": "LayoutView",
      "align_content": null,
      "align_items": null,
      "align_self": null,
      "border": null,
      "bottom": null,
      "display": null,
      "flex": null,
      "flex_flow": null,
      "grid_area": null,
      "grid_auto_columns": null,
      "grid_auto_flow": null,
      "grid_auto_rows": null,
      "grid_column": null,
      "grid_gap": null,
      "grid_row": null,
      "grid_template_areas": null,
      "grid_template_columns": null,
      "grid_template_rows": null,
      "height": null,
      "justify_content": null,
      "justify_items": null,
      "left": null,
      "margin": null,
      "max_height": null,
      "max_width": null,
      "min_height": null,
      "min_width": null,
      "object_fit": null,
      "object_position": null,
      "order": null,
      "overflow": null,
      "overflow_x": null,
      "overflow_y": null,
      "padding": null,
      "right": null,
      "top": null,
      "visibility": null,
      "width": null
     }
    },
    "649493c770084ccc8408431ecdf5fc57": {
     "model_module": "@jupyter-widgets/base",
     "model_module_version": "1.2.0",
     "model_name": "LayoutModel",
     "state": {
      "_model_module": "@jupyter-widgets/base",
      "_model_module_version": "1.2.0",
      "_model_name": "LayoutModel",
      "_view_count": null,
      "_view_module": "@jupyter-widgets/base",
      "_view_module_version": "1.2.0",
      "_view_name": "LayoutView",
      "align_content": null,
      "align_items": null,
      "align_self": null,
      "border": null,
      "bottom": null,
      "display": null,
      "flex": null,
      "flex_flow": null,
      "grid_area": null,
      "grid_auto_columns": null,
      "grid_auto_flow": null,
      "grid_auto_rows": null,
      "grid_column": null,
      "grid_gap": null,
      "grid_row": null,
      "grid_template_areas": null,
      "grid_template_columns": null,
      "grid_template_rows": null,
      "height": null,
      "justify_content": null,
      "justify_items": null,
      "left": null,
      "margin": null,
      "max_height": null,
      "max_width": null,
      "min_height": null,
      "min_width": null,
      "object_fit": null,
      "object_position": null,
      "order": null,
      "overflow": null,
      "overflow_x": null,
      "overflow_y": null,
      "padding": null,
      "right": null,
      "top": null,
      "visibility": null,
      "width": null
     }
    },
    "6b3f43066a9d42389423beccbd53c4f6": {
     "model_module": "@jupyter-widgets/base",
     "model_module_version": "1.2.0",
     "model_name": "LayoutModel",
     "state": {
      "_model_module": "@jupyter-widgets/base",
      "_model_module_version": "1.2.0",
      "_model_name": "LayoutModel",
      "_view_count": null,
      "_view_module": "@jupyter-widgets/base",
      "_view_module_version": "1.2.0",
      "_view_name": "LayoutView",
      "align_content": null,
      "align_items": null,
      "align_self": null,
      "border": null,
      "bottom": null,
      "display": null,
      "flex": null,
      "flex_flow": null,
      "grid_area": null,
      "grid_auto_columns": null,
      "grid_auto_flow": null,
      "grid_auto_rows": null,
      "grid_column": null,
      "grid_gap": null,
      "grid_row": null,
      "grid_template_areas": null,
      "grid_template_columns": null,
      "grid_template_rows": null,
      "height": null,
      "justify_content": null,
      "justify_items": null,
      "left": null,
      "margin": null,
      "max_height": null,
      "max_width": null,
      "min_height": null,
      "min_width": null,
      "object_fit": null,
      "object_position": null,
      "order": null,
      "overflow": null,
      "overflow_x": null,
      "overflow_y": null,
      "padding": null,
      "right": null,
      "top": null,
      "visibility": null,
      "width": null
     }
    },
    "72cbe07d52b7417ba6ed7d2984016a5d": {
     "model_module": "@jupyter-widgets/controls",
     "model_module_version": "1.5.0",
     "model_name": "FloatProgressModel",
     "state": {
      "_dom_classes": [],
      "_model_module": "@jupyter-widgets/controls",
      "_model_module_version": "1.5.0",
      "_model_name": "FloatProgressModel",
      "_view_count": null,
      "_view_module": "@jupyter-widgets/controls",
      "_view_module_version": "1.5.0",
      "_view_name": "ProgressView",
      "bar_style": "success",
      "description": "",
      "description_tooltip": null,
      "layout": "IPY_MODEL_89bf8c1ce28f4a0082dcb791e1aef2a8",
      "max": 170498071,
      "min": 0,
      "orientation": "horizontal",
      "style": "IPY_MODEL_89c596abc0df45b5b04c7fa2026f7c0e",
      "value": 170498071
     }
    },
    "827f367540aa4f37812cc7b073b16279": {
     "model_module": "@jupyter-widgets/base",
     "model_module_version": "1.2.0",
     "model_name": "LayoutModel",
     "state": {
      "_model_module": "@jupyter-widgets/base",
      "_model_module_version": "1.2.0",
      "_model_name": "LayoutModel",
      "_view_count": null,
      "_view_module": "@jupyter-widgets/base",
      "_view_module_version": "1.2.0",
      "_view_name": "LayoutView",
      "align_content": null,
      "align_items": null,
      "align_self": null,
      "border": null,
      "bottom": null,
      "display": null,
      "flex": null,
      "flex_flow": null,
      "grid_area": null,
      "grid_auto_columns": null,
      "grid_auto_flow": null,
      "grid_auto_rows": null,
      "grid_column": null,
      "grid_gap": null,
      "grid_row": null,
      "grid_template_areas": null,
      "grid_template_columns": null,
      "grid_template_rows": null,
      "height": null,
      "justify_content": null,
      "justify_items": null,
      "left": null,
      "margin": null,
      "max_height": null,
      "max_width": null,
      "min_height": null,
      "min_width": null,
      "object_fit": null,
      "object_position": null,
      "order": null,
      "overflow": null,
      "overflow_x": null,
      "overflow_y": null,
      "padding": null,
      "right": null,
      "top": null,
      "visibility": null,
      "width": null
     }
    },
    "89bf8c1ce28f4a0082dcb791e1aef2a8": {
     "model_module": "@jupyter-widgets/base",
     "model_module_version": "1.2.0",
     "model_name": "LayoutModel",
     "state": {
      "_model_module": "@jupyter-widgets/base",
      "_model_module_version": "1.2.0",
      "_model_name": "LayoutModel",
      "_view_count": null,
      "_view_module": "@jupyter-widgets/base",
      "_view_module_version": "1.2.0",
      "_view_name": "LayoutView",
      "align_content": null,
      "align_items": null,
      "align_self": null,
      "border": null,
      "bottom": null,
      "display": null,
      "flex": null,
      "flex_flow": null,
      "grid_area": null,
      "grid_auto_columns": null,
      "grid_auto_flow": null,
      "grid_auto_rows": null,
      "grid_column": null,
      "grid_gap": null,
      "grid_row": null,
      "grid_template_areas": null,
      "grid_template_columns": null,
      "grid_template_rows": null,
      "height": null,
      "justify_content": null,
      "justify_items": null,
      "left": null,
      "margin": null,
      "max_height": null,
      "max_width": null,
      "min_height": null,
      "min_width": null,
      "object_fit": null,
      "object_position": null,
      "order": null,
      "overflow": null,
      "overflow_x": null,
      "overflow_y": null,
      "padding": null,
      "right": null,
      "top": null,
      "visibility": null,
      "width": null
     }
    },
    "89c596abc0df45b5b04c7fa2026f7c0e": {
     "model_module": "@jupyter-widgets/controls",
     "model_module_version": "1.5.0",
     "model_name": "ProgressStyleModel",
     "state": {
      "_model_module": "@jupyter-widgets/controls",
      "_model_module_version": "1.5.0",
      "_model_name": "ProgressStyleModel",
      "_view_count": null,
      "_view_module": "@jupyter-widgets/base",
      "_view_module_version": "1.2.0",
      "_view_name": "StyleView",
      "bar_color": null,
      "description_width": ""
     }
    },
    "8c9a825c041f4d52877def9a4c5f3048": {
     "model_module": "@jupyter-widgets/base",
     "model_module_version": "1.2.0",
     "model_name": "LayoutModel",
     "state": {
      "_model_module": "@jupyter-widgets/base",
      "_model_module_version": "1.2.0",
      "_model_name": "LayoutModel",
      "_view_count": null,
      "_view_module": "@jupyter-widgets/base",
      "_view_module_version": "1.2.0",
      "_view_name": "LayoutView",
      "align_content": null,
      "align_items": null,
      "align_self": null,
      "border": null,
      "bottom": null,
      "display": null,
      "flex": null,
      "flex_flow": null,
      "grid_area": null,
      "grid_auto_columns": null,
      "grid_auto_flow": null,
      "grid_auto_rows": null,
      "grid_column": null,
      "grid_gap": null,
      "grid_row": null,
      "grid_template_areas": null,
      "grid_template_columns": null,
      "grid_template_rows": null,
      "height": null,
      "justify_content": null,
      "justify_items": null,
      "left": null,
      "margin": null,
      "max_height": null,
      "max_width": null,
      "min_height": null,
      "min_width": null,
      "object_fit": null,
      "object_position": null,
      "order": null,
      "overflow": null,
      "overflow_x": null,
      "overflow_y": null,
      "padding": null,
      "right": null,
      "top": null,
      "visibility": null,
      "width": null
     }
    },
    "90846c9bb0db4f0ba3cdeb2391c34006": {
     "model_module": "@jupyter-widgets/controls",
     "model_module_version": "1.5.0",
     "model_name": "ProgressStyleModel",
     "state": {
      "_model_module": "@jupyter-widgets/controls",
      "_model_module_version": "1.5.0",
      "_model_name": "ProgressStyleModel",
      "_view_count": null,
      "_view_module": "@jupyter-widgets/base",
      "_view_module_version": "1.2.0",
      "_view_name": "StyleView",
      "bar_color": null,
      "description_width": ""
     }
    },
    "9f516822f4844be1988a38facc474c00": {
     "model_module": "@jupyter-widgets/controls",
     "model_module_version": "1.5.0",
     "model_name": "HBoxModel",
     "state": {
      "_dom_classes": [],
      "_model_module": "@jupyter-widgets/controls",
      "_model_module_version": "1.5.0",
      "_model_name": "HBoxModel",
      "_view_count": null,
      "_view_module": "@jupyter-widgets/controls",
      "_view_module_version": "1.5.0",
      "_view_name": "HBoxView",
      "box_style": "",
      "children": [
       "IPY_MODEL_3fb0053447bb4557b2fadd131f052004",
       "IPY_MODEL_72cbe07d52b7417ba6ed7d2984016a5d",
       "IPY_MODEL_fceaf4638a234476a8fd45615b9d4d27"
      ],
      "layout": "IPY_MODEL_827f367540aa4f37812cc7b073b16279"
     }
    },
    "afb7033f0a0d42518d30755d1c45fc98": {
     "model_module": "@jupyter-widgets/controls",
     "model_module_version": "1.5.0",
     "model_name": "FloatProgressModel",
     "state": {
      "_dom_classes": [],
      "_model_module": "@jupyter-widgets/controls",
      "_model_module_version": "1.5.0",
      "_model_name": "FloatProgressModel",
      "_view_count": null,
      "_view_module": "@jupyter-widgets/controls",
      "_view_module_version": "1.5.0",
      "_view_name": "ProgressView",
      "bar_style": "success",
      "description": "",
      "description_tooltip": null,
      "layout": "IPY_MODEL_8c9a825c041f4d52877def9a4c5f3048",
      "max": 553433881,
      "min": 0,
      "orientation": "horizontal",
      "style": "IPY_MODEL_90846c9bb0db4f0ba3cdeb2391c34006",
      "value": 553433881
     }
    },
    "cfaae0f77d484152ac631f2aaedd55da": {
     "model_module": "@jupyter-widgets/controls",
     "model_module_version": "1.5.0",
     "model_name": "HTMLModel",
     "state": {
      "_dom_classes": [],
      "_model_module": "@jupyter-widgets/controls",
      "_model_module_version": "1.5.0",
      "_model_name": "HTMLModel",
      "_view_count": null,
      "_view_module": "@jupyter-widgets/controls",
      "_view_module_version": "1.5.0",
      "_view_name": "HTMLView",
      "description": "",
      "description_tooltip": null,
      "layout": "IPY_MODEL_29d8dfd745934a8289a142e9d85dfedb",
      "placeholder": "​",
      "style": "IPY_MODEL_48ee38d61fef43c9b445087228befa85",
      "value": "100%"
     }
    },
    "e73ca517e24b4812974b84ce14c6e801": {
     "model_module": "@jupyter-widgets/controls",
     "model_module_version": "1.5.0",
     "model_name": "DescriptionStyleModel",
     "state": {
      "_model_module": "@jupyter-widgets/controls",
      "_model_module_version": "1.5.0",
      "_model_name": "DescriptionStyleModel",
      "_view_count": null,
      "_view_module": "@jupyter-widgets/base",
      "_view_module_version": "1.2.0",
      "_view_name": "StyleView",
      "description_width": ""
     }
    },
    "e87eb599a1c341b19c53a0aa289907d6": {
     "model_module": "@jupyter-widgets/controls",
     "model_module_version": "1.5.0",
     "model_name": "DescriptionStyleModel",
     "state": {
      "_model_module": "@jupyter-widgets/controls",
      "_model_module_version": "1.5.0",
      "_model_name": "DescriptionStyleModel",
      "_view_count": null,
      "_view_module": "@jupyter-widgets/base",
      "_view_module_version": "1.2.0",
      "_view_name": "StyleView",
      "description_width": ""
     }
    },
    "fceaf4638a234476a8fd45615b9d4d27": {
     "model_module": "@jupyter-widgets/controls",
     "model_module_version": "1.5.0",
     "model_name": "HTMLModel",
     "state": {
      "_dom_classes": [],
      "_model_module": "@jupyter-widgets/controls",
      "_model_module_version": "1.5.0",
      "_model_name": "HTMLModel",
      "_view_count": null,
      "_view_module": "@jupyter-widgets/controls",
      "_view_module_version": "1.5.0",
      "_view_name": "HTMLView",
      "description": "",
      "description_tooltip": null,
      "layout": "IPY_MODEL_649493c770084ccc8408431ecdf5fc57",
      "placeholder": "​",
      "style": "IPY_MODEL_388a235c40334d0f977561deaee240a1",
      "value": " 170498071/170498071 [00:01&lt;00:00, 108740061.34it/s]"
     }
    }
   }
  }
 },
 "nbformat": 4,
 "nbformat_minor": 5
}
